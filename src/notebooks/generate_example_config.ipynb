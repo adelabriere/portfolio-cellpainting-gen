{
 "cells": [
  {
   "cell_type": "markdown",
   "metadata": {},
   "source": [
    "# Programmatically generating metadata\n",
    "\n",
    "This notebook allows to generate the metadata related to the images. It is based on the ofllowing [notebook](https://github.com/theislab/jump-cpg0016-segmentation/blob/main/notebooks/generate_example_config.ipynb) from the The Carpenter-Singh lab at the Broad Institute."
   ]
  },
  {
   "cell_type": "code",
   "execution_count": 70,
   "metadata": {},
   "outputs": [],
   "source": [
    "import json\n",
    "import pandas as pd\n",
    "import logging\n",
    "import pathlib as pl\n",
    "import requests\n",
    "import os\n",
    "import string\n",
    "import re"
   ]
  },
  {
   "cell_type": "markdown",
   "metadata": {},
   "source": [
    "## Set up template files"
   ]
  },
  {
   "cell_type": "code",
   "execution_count": 2,
   "metadata": {},
   "outputs": [
    {
     "data": {
      "text/html": [
       "<div>\n",
       "<style scoped>\n",
       "    .dataframe tbody tr th:only-of-type {\n",
       "        vertical-align: middle;\n",
       "    }\n",
       "\n",
       "    .dataframe tbody tr th {\n",
       "        vertical-align: top;\n",
       "    }\n",
       "\n",
       "    .dataframe thead th {\n",
       "        text-align: right;\n",
       "    }\n",
       "</style>\n",
       "<table border=\"1\" class=\"dataframe\">\n",
       "  <thead>\n",
       "    <tr style=\"text-align: right;\">\n",
       "      <th></th>\n",
       "      <th>Metadata_Source</th>\n",
       "      <th>Metadata_Batch</th>\n",
       "      <th>Metadata_Plate</th>\n",
       "      <th>Metadata_PlateType</th>\n",
       "      <th>Metadata_Well</th>\n",
       "      <th>Metadata_JCP2022</th>\n",
       "    </tr>\n",
       "  </thead>\n",
       "  <tbody>\n",
       "    <tr>\n",
       "      <th>0</th>\n",
       "      <td>source_1</td>\n",
       "      <td>Batch1_20221004</td>\n",
       "      <td>UL000109</td>\n",
       "      <td>COMPOUND_EMPTY</td>\n",
       "      <td>A02</td>\n",
       "      <td>JCP2022_033924</td>\n",
       "    </tr>\n",
       "    <tr>\n",
       "      <th>1</th>\n",
       "      <td>source_1</td>\n",
       "      <td>Batch1_20221004</td>\n",
       "      <td>UL000109</td>\n",
       "      <td>COMPOUND_EMPTY</td>\n",
       "      <td>A03</td>\n",
       "      <td>JCP2022_085227</td>\n",
       "    </tr>\n",
       "    <tr>\n",
       "      <th>2</th>\n",
       "      <td>source_1</td>\n",
       "      <td>Batch1_20221004</td>\n",
       "      <td>UL000109</td>\n",
       "      <td>COMPOUND_EMPTY</td>\n",
       "      <td>A04</td>\n",
       "      <td>JCP2022_033924</td>\n",
       "    </tr>\n",
       "  </tbody>\n",
       "</table>\n",
       "</div>"
      ],
      "text/plain": [
       "  Metadata_Source   Metadata_Batch Metadata_Plate Metadata_PlateType  \\\n",
       "0        source_1  Batch1_20221004       UL000109     COMPOUND_EMPTY   \n",
       "1        source_1  Batch1_20221004       UL000109     COMPOUND_EMPTY   \n",
       "2        source_1  Batch1_20221004       UL000109     COMPOUND_EMPTY   \n",
       "\n",
       "  Metadata_Well Metadata_JCP2022  \n",
       "0           A02   JCP2022_033924  \n",
       "1           A03   JCP2022_085227  \n",
       "2           A04   JCP2022_033924  "
      ]
     },
     "execution_count": 2,
     "metadata": {},
     "output_type": "execute_result"
    }
   ],
   "source": [
    "plate_link = \"https://github.com/jump-cellpainting/datasets/raw/main/metadata/plate.csv.gz\"\n",
    "well_link = \"https://github.com/jump-cellpainting/datasets/raw/main/metadata/well.csv.gz\"\n",
    "compound_link = \"https://github.com/jump-cellpainting/datasets/raw/main/metadata/compound.csv.gz\"\n",
    "orf_link = \"https://github.com/jump-cellpainting/datasets/raw/main/metadata/orf.csv.gz\"\n",
    "\n",
    "meta_dir = pl.Path(\"../metadata/\")\n",
    "meta_dir.mkdir(parents=True, exist_ok=True)\n",
    "\n",
    "plate_path = meta_dir.joinpath(\"plate.csv.gz\")\n",
    "well_path = meta_dir.joinpath(\"well.csv.gz\")\n",
    "compound_path = meta_dir.joinpath(\"compound.csv.gz\")\n",
    "orf_path = meta_dir.joinpath(\"orf.csv.gz\")\n",
    "\n",
    "meta_links = {\n",
    "    \"plate\": (plate_path, plate_link),\n",
    "    \"well\": (well_path, well_link),\n",
    "    \"compound\": (compound_path, compound_link),\n",
    "    \"orf\": (orf_path, orf_link),\n",
    "}\n",
    "\n",
    "for (path, link) in meta_links.values():\n",
    "    if not path.is_file():\n",
    "        file = requests.get(link)\n",
    "        with path.open(\"wb\") as f:\n",
    "            f.write(file.content)\n",
    "\n",
    "plate = pd.read_csv(meta_links[\"plate\"][0])\n",
    "well = pd.read_csv(meta_links[\"well\"][0])\n",
    "compound = pd.read_csv(meta_links[\"compound\"][0])\n",
    "orf = pd.read_csv(meta_links[\"orf\"][0])\n",
    "\n",
    "profile_formatter = (\n",
    "    \"s3://cellpainting-gallery/cpg0016-jump/\"\n",
    "    \"{Metadata_Source}/workspace/profiles/\"\n",
    "    \"{Metadata_Batch}/{Metadata_Plate}/{Metadata_Plate}.parquet\"\n",
    ")\n",
    "\n",
    "loaddata_formatter = (\n",
    "    \"s3://cellpainting-gallery/cpg0016-jump/\"\n",
    "    \"{Metadata_Source}/workspace/load_data_csv/\"\n",
    "    \"{Metadata_Batch}/{Metadata_Plate}/load_data_with_illum.parquet\"\n",
    ")\n",
    "\n",
    "df = plate.merge(right=well)"
   ]
  },
  {
   "cell_type": "code",
   "execution_count": 5,
   "metadata": {},
   "outputs": [
    {
     "data": {
      "text/html": [
       "<div>\n",
       "<style scoped>\n",
       "    .dataframe tbody tr th:only-of-type {\n",
       "        vertical-align: middle;\n",
       "    }\n",
       "\n",
       "    .dataframe tbody tr th {\n",
       "        vertical-align: top;\n",
       "    }\n",
       "\n",
       "    .dataframe thead th {\n",
       "        text-align: right;\n",
       "    }\n",
       "</style>\n",
       "<table border=\"1\" class=\"dataframe\">\n",
       "  <thead>\n",
       "    <tr style=\"text-align: right;\">\n",
       "      <th></th>\n",
       "      <th>Metadata_Source</th>\n",
       "      <th>Metadata_Batch</th>\n",
       "      <th>Metadata_Plate</th>\n",
       "      <th>Metadata_PlateType</th>\n",
       "      <th>Metadata_Well</th>\n",
       "      <th>Metadata_JCP2022</th>\n",
       "    </tr>\n",
       "  </thead>\n",
       "  <tbody>\n",
       "    <tr>\n",
       "      <th>0</th>\n",
       "      <td>source_1</td>\n",
       "      <td>Batch1_20221004</td>\n",
       "      <td>UL000109</td>\n",
       "      <td>COMPOUND_EMPTY</td>\n",
       "      <td>A02</td>\n",
       "      <td>JCP2022_033924</td>\n",
       "    </tr>\n",
       "    <tr>\n",
       "      <th>1</th>\n",
       "      <td>source_1</td>\n",
       "      <td>Batch1_20221004</td>\n",
       "      <td>UL000109</td>\n",
       "      <td>COMPOUND_EMPTY</td>\n",
       "      <td>A03</td>\n",
       "      <td>JCP2022_085227</td>\n",
       "    </tr>\n",
       "    <tr>\n",
       "      <th>2</th>\n",
       "      <td>source_1</td>\n",
       "      <td>Batch1_20221004</td>\n",
       "      <td>UL000109</td>\n",
       "      <td>COMPOUND_EMPTY</td>\n",
       "      <td>A04</td>\n",
       "      <td>JCP2022_033924</td>\n",
       "    </tr>\n",
       "  </tbody>\n",
       "</table>\n",
       "</div>"
      ],
      "text/plain": [
       "  Metadata_Source   Metadata_Batch Metadata_Plate Metadata_PlateType  \\\n",
       "0        source_1  Batch1_20221004       UL000109     COMPOUND_EMPTY   \n",
       "1        source_1  Batch1_20221004       UL000109     COMPOUND_EMPTY   \n",
       "2        source_1  Batch1_20221004       UL000109     COMPOUND_EMPTY   \n",
       "\n",
       "  Metadata_Well Metadata_JCP2022  \n",
       "0           A02   JCP2022_033924  \n",
       "1           A03   JCP2022_085227  \n",
       "2           A04   JCP2022_033924  "
      ]
     },
     "execution_count": 5,
     "metadata": {},
     "output_type": "execute_result"
    }
   ],
   "source": [
    "df.iloc[:3]"
   ]
  },
  {
   "cell_type": "code",
   "execution_count": 6,
   "metadata": {},
   "outputs": [
    {
     "data": {
      "text/html": [
       "<div>\n",
       "<style scoped>\n",
       "    .dataframe tbody tr th:only-of-type {\n",
       "        vertical-align: middle;\n",
       "    }\n",
       "\n",
       "    .dataframe tbody tr th {\n",
       "        vertical-align: top;\n",
       "    }\n",
       "\n",
       "    .dataframe thead th {\n",
       "        text-align: right;\n",
       "    }\n",
       "</style>\n",
       "<table border=\"1\" class=\"dataframe\">\n",
       "  <thead>\n",
       "    <tr style=\"text-align: right;\">\n",
       "      <th></th>\n",
       "      <th>Metadata_Source</th>\n",
       "      <th>Metadata_Plate</th>\n",
       "      <th>Metadata_Well</th>\n",
       "      <th>Metadata_JCP2022</th>\n",
       "    </tr>\n",
       "  </thead>\n",
       "  <tbody>\n",
       "    <tr>\n",
       "      <th>0</th>\n",
       "      <td>source_1</td>\n",
       "      <td>UL000081</td>\n",
       "      <td>A02</td>\n",
       "      <td>JCP2022_033924</td>\n",
       "    </tr>\n",
       "    <tr>\n",
       "      <th>1</th>\n",
       "      <td>source_1</td>\n",
       "      <td>UL000081</td>\n",
       "      <td>A03</td>\n",
       "      <td>JCP2022_085227</td>\n",
       "    </tr>\n",
       "    <tr>\n",
       "      <th>2</th>\n",
       "      <td>source_1</td>\n",
       "      <td>UL000081</td>\n",
       "      <td>A04</td>\n",
       "      <td>JCP2022_033924</td>\n",
       "    </tr>\n",
       "  </tbody>\n",
       "</table>\n",
       "</div>"
      ],
      "text/plain": [
       "  Metadata_Source Metadata_Plate Metadata_Well Metadata_JCP2022\n",
       "0        source_1       UL000081           A02   JCP2022_033924\n",
       "1        source_1       UL000081           A03   JCP2022_085227\n",
       "2        source_1       UL000081           A04   JCP2022_033924"
      ]
     },
     "execution_count": 6,
     "metadata": {},
     "output_type": "execute_result"
    }
   ],
   "source": [
    "well.iloc[:3]"
   ]
  },
  {
   "cell_type": "code",
   "execution_count": 7,
   "metadata": {},
   "outputs": [
    {
     "data": {
      "text/html": [
       "<div>\n",
       "<style scoped>\n",
       "    .dataframe tbody tr th:only-of-type {\n",
       "        vertical-align: middle;\n",
       "    }\n",
       "\n",
       "    .dataframe tbody tr th {\n",
       "        vertical-align: top;\n",
       "    }\n",
       "\n",
       "    .dataframe thead th {\n",
       "        text-align: right;\n",
       "    }\n",
       "</style>\n",
       "<table border=\"1\" class=\"dataframe\">\n",
       "  <thead>\n",
       "    <tr style=\"text-align: right;\">\n",
       "      <th></th>\n",
       "      <th>Metadata_JCP2022</th>\n",
       "      <th>Metadata_InChIKey</th>\n",
       "      <th>Metadata_InChI</th>\n",
       "      <th>Metadata_SMILES</th>\n",
       "    </tr>\n",
       "  </thead>\n",
       "  <tbody>\n",
       "    <tr>\n",
       "      <th>0</th>\n",
       "      <td>JCP2022_000001</td>\n",
       "      <td>AAAHWCWPZPSPIW-UHFFFAOYSA-N</td>\n",
       "      <td>InChI=1S/C25H31N5O2/c1-4-23-26-14-16-30(23)24-...</td>\n",
       "      <td>CCc1nccn1-c1cccc(C2CCCN2C(=O)c2ccc(OCCN(C)C)cc...</td>\n",
       "    </tr>\n",
       "    <tr>\n",
       "      <th>1</th>\n",
       "      <td>JCP2022_000002</td>\n",
       "      <td>AAAJHRMBUHXWLD-UHFFFAOYSA-N</td>\n",
       "      <td>InChI=1S/C11H13ClN2O/c12-10-4-2-9(3-5-10)8-14-...</td>\n",
       "      <td>O=C1NCCCN1Cc1ccc(Cl)cc1</td>\n",
       "    </tr>\n",
       "    <tr>\n",
       "      <th>2</th>\n",
       "      <td>JCP2022_000004</td>\n",
       "      <td>AAANUZMCJQUYNX-UHFFFAOYSA-N</td>\n",
       "      <td>InChI=1S/C13H22N4O2S/c1-2-7-16-13(5-6-15-16)20...</td>\n",
       "      <td>CCCn1nccc1S(=O)(=O)N1CC2CCC1CNC2</td>\n",
       "    </tr>\n",
       "  </tbody>\n",
       "</table>\n",
       "</div>"
      ],
      "text/plain": [
       "  Metadata_JCP2022            Metadata_InChIKey  \\\n",
       "0   JCP2022_000001  AAAHWCWPZPSPIW-UHFFFAOYSA-N   \n",
       "1   JCP2022_000002  AAAJHRMBUHXWLD-UHFFFAOYSA-N   \n",
       "2   JCP2022_000004  AAANUZMCJQUYNX-UHFFFAOYSA-N   \n",
       "\n",
       "                                      Metadata_InChI  \\\n",
       "0  InChI=1S/C25H31N5O2/c1-4-23-26-14-16-30(23)24-...   \n",
       "1  InChI=1S/C11H13ClN2O/c12-10-4-2-9(3-5-10)8-14-...   \n",
       "2  InChI=1S/C13H22N4O2S/c1-2-7-16-13(5-6-15-16)20...   \n",
       "\n",
       "                                     Metadata_SMILES  \n",
       "0  CCc1nccn1-c1cccc(C2CCCN2C(=O)c2ccc(OCCN(C)C)cc...  \n",
       "1                            O=C1NCCCN1Cc1ccc(Cl)cc1  \n",
       "2                   CCCn1nccc1S(=O)(=O)N1CC2CCC1CNC2  "
      ]
     },
     "execution_count": 7,
     "metadata": {},
     "output_type": "execute_result"
    }
   ],
   "source": [
    "compound.iloc[:3]"
   ]
  },
  {
   "cell_type": "markdown",
   "metadata": {},
   "source": [
    "### Subseting the metadata"
   ]
  },
  {
   "cell_type": "markdown",
   "metadata": {},
   "source": [
    "We subset the metadata to the one we actually downloaded"
   ]
  },
  {
   "cell_type": "code",
   "execution_count": 51,
   "metadata": {},
   "outputs": [],
   "source": [
    "SEL_PLATES = [\"EC000005\"]"
   ]
  },
  {
   "cell_type": "code",
   "execution_count": 52,
   "metadata": {},
   "outputs": [],
   "source": [
    "df_sub = df[df[\"Metadata_Plate\"].isin(SEL_PLATES)].copy()"
   ]
  },
  {
   "cell_type": "markdown",
   "metadata": {},
   "source": [
    "We create the indentifier prefix from the image"
   ]
  },
  {
   "cell_type": "code",
   "execution_count": 53,
   "metadata": {},
   "outputs": [],
   "source": [
    "import string\n",
    "\n",
    "\n",
    "def generate_image_name(pos):\n",
    "    row = pos[0]\n",
    "    col = pos[1:]\n",
    "    if len(col)>2: return None\n",
    "    col = int(col)\n",
    "    row_idx = string.ascii_uppercase.index(row)+1\n",
    "    fmt_string = \"r{:02}c{:02}\".format(row_idx,col)\n",
    "    return fmt_string\n",
    "    \n",
    "\n",
    "df_sub[\"Image_Prefix\"] =df[\"Metadata_Well\"].apply(generate_image_name)"
   ]
  },
  {
   "cell_type": "markdown",
   "metadata": {},
   "source": [
    "We can now map it to the image name that we have downloaded"
   ]
  },
  {
   "cell_type": "code",
   "execution_count": 160,
   "metadata": {},
   "outputs": [],
   "source": [
    "FOLDER_IMAGE = \"/mnt/c/Users/alexi/Documents/data/images/cellpainting/cpg0016-jump/data/EC000005/images/Images\"\n",
    "pimages = os.listdir(FOLDER_IMAGE)\n",
    "pimages = [x for x in pimages if x.endswith(\"tiff\")]\n",
    "df_images = pd.DataFrame({\"Filename\":pimages})\n",
    "df_images[\"Image_Prefix\"] = df_images[\"Filename\"].str[:6]\n",
    "df_images = df_images.merge(df_sub,on=\"Image_Prefix\",how=\"left\")\n",
    "df_images = df_images.drop(columns=\"Image_Prefix\")\n",
    "df_images = df_images.drop(columns=\"Metadata_JCP2022\")\n",
    "df_images[\"Image_PathName\"] = df_images[\"Filename\"].apply(lambda x:\"file:{}/{}\".format(FOLDER_IMAGE,x))\n",
    "colnames = df_images.columns.tolist()\n",
    "colnames = [colnames[-1]]+colnames[:-1]\n",
    "df_images = df_images[colnames]\n",
    "df_images[\"Metadata_Channel\"] = df_images[\"Filename\"].str[13:16]\n",
    "df_images[\"Metadata_WellFrame\"] = df_images[\"Filename\"].str[:12]\n"
   ]
  },
  {
   "cell_type": "code",
   "execution_count": 161,
   "metadata": {},
   "outputs": [
    {
     "data": {
      "text/html": [
       "<div>\n",
       "<style scoped>\n",
       "    .dataframe tbody tr th:only-of-type {\n",
       "        vertical-align: middle;\n",
       "    }\n",
       "\n",
       "    .dataframe tbody tr th {\n",
       "        vertical-align: top;\n",
       "    }\n",
       "\n",
       "    .dataframe thead th {\n",
       "        text-align: right;\n",
       "    }\n",
       "</style>\n",
       "<table border=\"1\" class=\"dataframe\">\n",
       "  <thead>\n",
       "    <tr style=\"text-align: right;\">\n",
       "      <th></th>\n",
       "      <th>Image_PathName</th>\n",
       "      <th>Filename</th>\n",
       "      <th>Metadata_Source</th>\n",
       "      <th>Metadata_Batch</th>\n",
       "      <th>Metadata_Plate</th>\n",
       "      <th>Metadata_PlateType</th>\n",
       "      <th>Metadata_Well</th>\n",
       "      <th>Metadata_Channel</th>\n",
       "      <th>Metadata_WellFrame</th>\n",
       "    </tr>\n",
       "  </thead>\n",
       "  <tbody>\n",
       "    <tr>\n",
       "      <th>0</th>\n",
       "      <td>file:/mnt/c/Users/alexi/Documents/data/images/...</td>\n",
       "      <td>r01c01f01p01-ch1sk1fk1fl1.tiff</td>\n",
       "      <td>source_11</td>\n",
       "      <td>Batch1</td>\n",
       "      <td>EC000005</td>\n",
       "      <td>COMPOUND</td>\n",
       "      <td>A01</td>\n",
       "      <td>ch1</td>\n",
       "      <td>r01c01f01p01</td>\n",
       "    </tr>\n",
       "    <tr>\n",
       "      <th>1</th>\n",
       "      <td>file:/mnt/c/Users/alexi/Documents/data/images/...</td>\n",
       "      <td>r01c01f01p01-ch2sk1fk1fl1.tiff</td>\n",
       "      <td>source_11</td>\n",
       "      <td>Batch1</td>\n",
       "      <td>EC000005</td>\n",
       "      <td>COMPOUND</td>\n",
       "      <td>A01</td>\n",
       "      <td>ch2</td>\n",
       "      <td>r01c01f01p01</td>\n",
       "    </tr>\n",
       "    <tr>\n",
       "      <th>2</th>\n",
       "      <td>file:/mnt/c/Users/alexi/Documents/data/images/...</td>\n",
       "      <td>r01c01f01p01-ch3sk1fk1fl1.tiff</td>\n",
       "      <td>source_11</td>\n",
       "      <td>Batch1</td>\n",
       "      <td>EC000005</td>\n",
       "      <td>COMPOUND</td>\n",
       "      <td>A01</td>\n",
       "      <td>ch3</td>\n",
       "      <td>r01c01f01p01</td>\n",
       "    </tr>\n",
       "    <tr>\n",
       "      <th>3</th>\n",
       "      <td>file:/mnt/c/Users/alexi/Documents/data/images/...</td>\n",
       "      <td>r01c01f01p01-ch4sk1fk1fl1.tiff</td>\n",
       "      <td>source_11</td>\n",
       "      <td>Batch1</td>\n",
       "      <td>EC000005</td>\n",
       "      <td>COMPOUND</td>\n",
       "      <td>A01</td>\n",
       "      <td>ch4</td>\n",
       "      <td>r01c01f01p01</td>\n",
       "    </tr>\n",
       "    <tr>\n",
       "      <th>4</th>\n",
       "      <td>file:/mnt/c/Users/alexi/Documents/data/images/...</td>\n",
       "      <td>r01c01f01p01-ch5sk1fk1fl1.tiff</td>\n",
       "      <td>source_11</td>\n",
       "      <td>Batch1</td>\n",
       "      <td>EC000005</td>\n",
       "      <td>COMPOUND</td>\n",
       "      <td>A01</td>\n",
       "      <td>ch5</td>\n",
       "      <td>r01c01f01p01</td>\n",
       "    </tr>\n",
       "    <tr>\n",
       "      <th>...</th>\n",
       "      <td>...</td>\n",
       "      <td>...</td>\n",
       "      <td>...</td>\n",
       "      <td>...</td>\n",
       "      <td>...</td>\n",
       "      <td>...</td>\n",
       "      <td>...</td>\n",
       "      <td>...</td>\n",
       "      <td>...</td>\n",
       "    </tr>\n",
       "    <tr>\n",
       "      <th>20731</th>\n",
       "      <td>file:/mnt/c/Users/alexi/Documents/data/images/...</td>\n",
       "      <td>r16c24f09p01-ch2sk1fk1fl1.tiff</td>\n",
       "      <td>source_11</td>\n",
       "      <td>Batch1</td>\n",
       "      <td>EC000005</td>\n",
       "      <td>COMPOUND</td>\n",
       "      <td>P24</td>\n",
       "      <td>ch2</td>\n",
       "      <td>r16c24f09p01</td>\n",
       "    </tr>\n",
       "    <tr>\n",
       "      <th>20732</th>\n",
       "      <td>file:/mnt/c/Users/alexi/Documents/data/images/...</td>\n",
       "      <td>r16c24f09p01-ch3sk1fk1fl1.tiff</td>\n",
       "      <td>source_11</td>\n",
       "      <td>Batch1</td>\n",
       "      <td>EC000005</td>\n",
       "      <td>COMPOUND</td>\n",
       "      <td>P24</td>\n",
       "      <td>ch3</td>\n",
       "      <td>r16c24f09p01</td>\n",
       "    </tr>\n",
       "    <tr>\n",
       "      <th>20733</th>\n",
       "      <td>file:/mnt/c/Users/alexi/Documents/data/images/...</td>\n",
       "      <td>r16c24f09p01-ch4sk1fk1fl1.tiff</td>\n",
       "      <td>source_11</td>\n",
       "      <td>Batch1</td>\n",
       "      <td>EC000005</td>\n",
       "      <td>COMPOUND</td>\n",
       "      <td>P24</td>\n",
       "      <td>ch4</td>\n",
       "      <td>r16c24f09p01</td>\n",
       "    </tr>\n",
       "    <tr>\n",
       "      <th>20734</th>\n",
       "      <td>file:/mnt/c/Users/alexi/Documents/data/images/...</td>\n",
       "      <td>r16c24f09p01-ch5sk1fk1fl1.tiff</td>\n",
       "      <td>source_11</td>\n",
       "      <td>Batch1</td>\n",
       "      <td>EC000005</td>\n",
       "      <td>COMPOUND</td>\n",
       "      <td>P24</td>\n",
       "      <td>ch5</td>\n",
       "      <td>r16c24f09p01</td>\n",
       "    </tr>\n",
       "    <tr>\n",
       "      <th>20735</th>\n",
       "      <td>file:/mnt/c/Users/alexi/Documents/data/images/...</td>\n",
       "      <td>r16c24f09p01-ch6sk1fk1fl1.tiff</td>\n",
       "      <td>source_11</td>\n",
       "      <td>Batch1</td>\n",
       "      <td>EC000005</td>\n",
       "      <td>COMPOUND</td>\n",
       "      <td>P24</td>\n",
       "      <td>ch6</td>\n",
       "      <td>r16c24f09p01</td>\n",
       "    </tr>\n",
       "  </tbody>\n",
       "</table>\n",
       "<p>20736 rows × 9 columns</p>\n",
       "</div>"
      ],
      "text/plain": [
       "                                          Image_PathName  \\\n",
       "0      file:/mnt/c/Users/alexi/Documents/data/images/...   \n",
       "1      file:/mnt/c/Users/alexi/Documents/data/images/...   \n",
       "2      file:/mnt/c/Users/alexi/Documents/data/images/...   \n",
       "3      file:/mnt/c/Users/alexi/Documents/data/images/...   \n",
       "4      file:/mnt/c/Users/alexi/Documents/data/images/...   \n",
       "...                                                  ...   \n",
       "20731  file:/mnt/c/Users/alexi/Documents/data/images/...   \n",
       "20732  file:/mnt/c/Users/alexi/Documents/data/images/...   \n",
       "20733  file:/mnt/c/Users/alexi/Documents/data/images/...   \n",
       "20734  file:/mnt/c/Users/alexi/Documents/data/images/...   \n",
       "20735  file:/mnt/c/Users/alexi/Documents/data/images/...   \n",
       "\n",
       "                             Filename Metadata_Source Metadata_Batch  \\\n",
       "0      r01c01f01p01-ch1sk1fk1fl1.tiff       source_11         Batch1   \n",
       "1      r01c01f01p01-ch2sk1fk1fl1.tiff       source_11         Batch1   \n",
       "2      r01c01f01p01-ch3sk1fk1fl1.tiff       source_11         Batch1   \n",
       "3      r01c01f01p01-ch4sk1fk1fl1.tiff       source_11         Batch1   \n",
       "4      r01c01f01p01-ch5sk1fk1fl1.tiff       source_11         Batch1   \n",
       "...                               ...             ...            ...   \n",
       "20731  r16c24f09p01-ch2sk1fk1fl1.tiff       source_11         Batch1   \n",
       "20732  r16c24f09p01-ch3sk1fk1fl1.tiff       source_11         Batch1   \n",
       "20733  r16c24f09p01-ch4sk1fk1fl1.tiff       source_11         Batch1   \n",
       "20734  r16c24f09p01-ch5sk1fk1fl1.tiff       source_11         Batch1   \n",
       "20735  r16c24f09p01-ch6sk1fk1fl1.tiff       source_11         Batch1   \n",
       "\n",
       "      Metadata_Plate Metadata_PlateType Metadata_Well Metadata_Channel  \\\n",
       "0           EC000005           COMPOUND           A01              ch1   \n",
       "1           EC000005           COMPOUND           A01              ch2   \n",
       "2           EC000005           COMPOUND           A01              ch3   \n",
       "3           EC000005           COMPOUND           A01              ch4   \n",
       "4           EC000005           COMPOUND           A01              ch5   \n",
       "...              ...                ...           ...              ...   \n",
       "20731       EC000005           COMPOUND           P24              ch2   \n",
       "20732       EC000005           COMPOUND           P24              ch3   \n",
       "20733       EC000005           COMPOUND           P24              ch4   \n",
       "20734       EC000005           COMPOUND           P24              ch5   \n",
       "20735       EC000005           COMPOUND           P24              ch6   \n",
       "\n",
       "      Metadata_WellFrame  \n",
       "0           r01c01f01p01  \n",
       "1           r01c01f01p01  \n",
       "2           r01c01f01p01  \n",
       "3           r01c01f01p01  \n",
       "4           r01c01f01p01  \n",
       "...                  ...  \n",
       "20731       r16c24f09p01  \n",
       "20732       r16c24f09p01  \n",
       "20733       r16c24f09p01  \n",
       "20734       r16c24f09p01  \n",
       "20735       r16c24f09p01  \n",
       "\n",
       "[20736 rows x 9 columns]"
      ]
     },
     "execution_count": 161,
     "metadata": {},
     "output_type": "execute_result"
    }
   ],
   "source": [
    "df_images"
   ]
  },
  {
   "cell_type": "markdown",
   "metadata": {},
   "source": [
    "Using more interpretable label"
   ]
  },
  {
   "cell_type": "code",
   "execution_count": 45,
   "metadata": {},
   "outputs": [],
   "source": [
    "CHANNEL_LABELING = {\"ch1\":\"DNA\",\"ch2\":\"ER\",\"ch3\":\"nucl_cytoRNA\",\"ch4\":\"actin_golgi_wga\",\"ch5\":\"mito\",\"ch6\":\"unknown\"}"
   ]
  },
  {
   "cell_type": "code",
   "execution_count": 165,
   "metadata": {},
   "outputs": [],
   "source": [
    "df_images[\"Metadata_ChannelBio\"] = df_images[\"Metadata_Channel\"].map(CHANNEL_LABELING)"
   ]
  },
  {
   "cell_type": "code",
   "execution_count": 166,
   "metadata": {},
   "outputs": [],
   "source": [
    "acols = df_images.columns.tolist()\n",
    "REMOVED_COL = [\"Metadata_ChannelBio\",\"Metadata_Channel\",\"Filename\",\"Image_PathName\"]\n",
    "index_col = [x for x in acols if x not in REMOVED_COL]"
   ]
  },
  {
   "cell_type": "code",
   "execution_count": 167,
   "metadata": {},
   "outputs": [],
   "source": [
    "df_images[\"Metadata_ChannelBio\"] = df_images[\"Metadata_ChannelBio\"].apply(lambda x:\"Image_FileName_\"+x)"
   ]
  },
  {
   "cell_type": "markdown",
   "metadata": {},
   "source": [
    "We change the path to adapt to windows"
   ]
  },
  {
   "cell_type": "code",
   "execution_count": 168,
   "metadata": {},
   "outputs": [],
   "source": [
    "import pathlib\n",
    "df_images[\"Image_PathName\"] = df_images[\"Image_PathName\"].str[12:].apply(lambda x: \"C:\\\\\"+str(pathlib.PureWindowsPath(x)))\n"
   ]
  },
  {
   "cell_type": "code",
   "execution_count": 169,
   "metadata": {},
   "outputs": [],
   "source": [
    "df_images_wide = df_images.pivot(index=index_col,columns=[\"Metadata_ChannelBio\"],values=\"Image_PathName\").reset_index()"
   ]
  },
  {
   "cell_type": "markdown",
   "metadata": {},
   "source": [
    "Subsampling images for test purpose"
   ]
  },
  {
   "cell_type": "code",
   "execution_count": 173,
   "metadata": {},
   "outputs": [],
   "source": [
    "df_images_w_subsample = df_images_wide.sample(500,random_state=512)"
   ]
  },
  {
   "cell_type": "code",
   "execution_count": 174,
   "metadata": {},
   "outputs": [],
   "source": [
    "PATH_META = \"/mnt/c/Users/alexi/Documents/data/images/cellpainting/cpg0016-jump/data/EC000005/metadata_wide.csv\"\n",
    "df_images_w_subsample.to_csv(PATH_META,index=False)"
   ]
  },
  {
   "cell_type": "markdown",
   "metadata": {},
   "source": [
    "We can now save the metadata table"
   ]
  },
  {
   "cell_type": "code",
   "execution_count": 145,
   "metadata": {},
   "outputs": [],
   "source": [
    "PATH_META = \"/mnt/c/Users/alexi/Documents/data/images/cellpainting/cpg0016-jump/data/EC000005/metadata_subset.csv\"\n",
    "df_images.to_csv(PATH_META,index=False)"
   ]
  },
  {
   "cell_type": "code",
   "execution_count": 155,
   "metadata": {},
   "outputs": [],
   "source": [
    "PATH_META = \"/mnt/c/Users/alexi/Documents/data/images/cellpainting/cpg0016-jump/data/EC000005/metadata_subset_wide.csv\"\n",
    "df_images_wide.to_csv(PATH_META,index=False)"
   ]
  },
  {
   "cell_type": "markdown",
   "metadata": {},
   "source": [
    "Adapting the table for"
   ]
  },
  {
   "cell_type": "markdown",
   "metadata": {},
   "source": [
    "### Target crispr ORF datasets\n",
    "Sepcifically focus on getting the metadataand getting the samples from https://github.com/jump-cellpainting/JUMP-Target."
   ]
  },
  {
   "cell_type": "code",
   "execution_count": 6,
   "metadata": {},
   "outputs": [
    {
     "ename": "AttributeError",
     "evalue": "'Series' object has no attribute 'values_count'",
     "output_type": "error",
     "traceback": [
      "\u001b[31m---------------------------------------------------------------------------\u001b[39m",
      "\u001b[31mAttributeError\u001b[39m                            Traceback (most recent call last)",
      "\u001b[32m/tmp/ipykernel_58434/114337787.py\u001b[39m in \u001b[36m?\u001b[39m\u001b[34m()\u001b[39m\n\u001b[32m----> \u001b[39m\u001b[32m1\u001b[39m df.Metadata_PlateType.values_count()\n",
      "\u001b[32m~/miniconda3/envs/imaging/lib/python3.12/site-packages/pandas/core/generic.py\u001b[39m in \u001b[36m?\u001b[39m\u001b[34m(self, name)\u001b[39m\n\u001b[32m   6295\u001b[39m             \u001b[38;5;28;01mand\u001b[39;00m name \u001b[38;5;28;01mnot\u001b[39;00m \u001b[38;5;28;01min\u001b[39;00m self._accessors\n\u001b[32m   6296\u001b[39m             \u001b[38;5;28;01mand\u001b[39;00m self._info_axis._can_hold_identifiers_and_holds_name(name)\n\u001b[32m   6297\u001b[39m         ):\n\u001b[32m   6298\u001b[39m             \u001b[38;5;28;01mreturn\u001b[39;00m self[name]\n\u001b[32m-> \u001b[39m\u001b[32m6299\u001b[39m         \u001b[38;5;28;01mreturn\u001b[39;00m object.__getattribute__(self, name)\n",
      "\u001b[31mAttributeError\u001b[39m: 'Series' object has no attribute 'values_count'"
     ]
    }
   ],
   "source": [
    "plate_link = \"https://github.com/jump-cellpainting/datasets/raw/main/metadata/plate.csv.gz\"\n",
    "well_link = \"https://github.com/jump-cellpainting/datasets/raw/main/metadata/well.csv.gz\"\n",
    "compound_link = \"https://github.com/jump-cellpainting/datasets/raw/main/metadata/compound.csv.gz\"\n",
    "orf_link = \"https://github.com/jump-cellpainting/datasets/raw/main/metadata/orf.csv.gz\"\n",
    "\n",
    "meta_dir = pl.Path(\"../metadata/\")\n",
    "meta_dir.mkdir(parents=True, exist_ok=True)\n",
    "\n",
    "plate_path = meta_dir.joinpath(\"plate.csv.gz\")\n",
    "well_path = meta_dir.joinpath(\"well.csv.gz\")\n",
    "compound_path = meta_dir.joinpath(\"compound.csv.gz\")\n",
    "orf_path = meta_dir.joinpath(\"orf.csv.gz\")\n",
    "\n",
    "meta_links = {\n",
    "    \"plate\": (plate_path, plate_link),\n",
    "    \"well\": (well_path, well_link),\n",
    "    \"compound\": (compound_path, compound_link),\n",
    "    \"orf\": (orf_path, orf_link),\n",
    "}\n",
    "\n",
    "for (path, link) in meta_links.values():\n",
    "    if not path.is_file():\n",
    "        file = requests.get(link)\n",
    "        with path.open(\"wb\") as f:\n",
    "            f.write(file.content)\n",
    "\n",
    "plate = pd.read_csv(meta_links[\"plate\"][0])\n",
    "well = pd.read_csv(meta_links[\"well\"][0])\n",
    "compound = pd.read_csv(meta_links[\"compound\"][0])\n",
    "orf = pd.read_csv(meta_links[\"orf\"][0])\n",
    "\n",
    "profile_formatter = (\n",
    "    \"s3://cellpainting-gallery/cpg0016-jump/\"\n",
    "    \"{Metadata_Source}/workspace/profiles/\"\n",
    "    \"{Metadata_Batch}/{Metadata_Plate}/{Metadata_Plate}.parquet\"\n",
    ")\n",
    "\n",
    "loaddata_formatter = (\n",
    "    \"s3://cellpainting-gallery/cpg0016-jump/\"\n",
    "    \"{Metadata_Source}/workspace/load_data_csv/\"\n",
    "    \"{Metadata_Batch}/{Metadata_Plate}/load_data_with_illum.parquet\"\n",
    ")\n",
    "\n",
    "df = plate.merge(right=well)"
   ]
  },
  {
   "cell_type": "code",
   "execution_count": 20,
   "metadata": {},
   "outputs": [],
   "source": [
    "df_targets = df[df.Metadata_PlateType.str.contains(\"TARGET2\")]"
   ]
  },
  {
   "cell_type": "code",
   "execution_count": 47,
   "metadata": {},
   "outputs": [],
   "source": [
    "def selecting_jcp_perturbations(df,nperturb=40,max_plates=5):\n",
    "    labels = df.Metadata_JCP2022.value_counts()\n",
    "    DMSO = labels.index.tolist()[0]\n",
    "    labels = labels.iloc[1:]\n",
    "    sel_labels = labels.sample(nperturb).index.tolist()\n",
    "    sel_plates = df.Metadata_Plate[df.Metadata_JCP2022.isin(sel_labels)].value_counts()\n",
    "    sel_plates = sel_plates.iloc[:max_plates].index.tolist()\n",
    "    return df[df.Metadata_Plate.isin(sel_plates)]\n",
    "    "
   ]
  },
  {
   "cell_type": "code",
   "execution_count": 101,
   "metadata": {},
   "outputs": [],
   "source": [
    "selected_targets = selecting_jcp_perturbations(df_targets,nperturb=200,max_plates=4)"
   ]
  },
  {
   "cell_type": "code",
   "execution_count": 102,
   "metadata": {},
   "outputs": [
    {
     "data": {
      "text/html": [
       "<div>\n",
       "<style scoped>\n",
       "    .dataframe tbody tr th:only-of-type {\n",
       "        vertical-align: middle;\n",
       "    }\n",
       "\n",
       "    .dataframe tbody tr th {\n",
       "        vertical-align: top;\n",
       "    }\n",
       "\n",
       "    .dataframe thead th {\n",
       "        text-align: right;\n",
       "    }\n",
       "</style>\n",
       "<table border=\"1\" class=\"dataframe\">\n",
       "  <thead>\n",
       "    <tr style=\"text-align: right;\">\n",
       "      <th></th>\n",
       "      <th>Metadata_Source</th>\n",
       "      <th>Metadata_Batch</th>\n",
       "      <th>Metadata_Plate</th>\n",
       "      <th>Metadata_PlateType</th>\n",
       "      <th>Metadata_Well</th>\n",
       "      <th>Metadata_JCP2022</th>\n",
       "    </tr>\n",
       "  </thead>\n",
       "  <tbody>\n",
       "    <tr>\n",
       "      <th>1028928</th>\n",
       "      <td>source_9</td>\n",
       "      <td>20210901_Run8</td>\n",
       "      <td>GR00003340</td>\n",
       "      <td>TARGET2</td>\n",
       "      <td>A01</td>\n",
       "      <td>JCP2022_087693</td>\n",
       "    </tr>\n",
       "    <tr>\n",
       "      <th>1028929</th>\n",
       "      <td>source_9</td>\n",
       "      <td>20210901_Run8</td>\n",
       "      <td>GR00003340</td>\n",
       "      <td>TARGET2</td>\n",
       "      <td>A02</td>\n",
       "      <td>JCP2022_033924</td>\n",
       "    </tr>\n",
       "    <tr>\n",
       "      <th>1028930</th>\n",
       "      <td>source_9</td>\n",
       "      <td>20210901_Run8</td>\n",
       "      <td>GR00003340</td>\n",
       "      <td>TARGET2</td>\n",
       "      <td>A03</td>\n",
       "      <td>JCP2022_109350</td>\n",
       "    </tr>\n",
       "    <tr>\n",
       "      <th>1028931</th>\n",
       "      <td>source_9</td>\n",
       "      <td>20210901_Run8</td>\n",
       "      <td>GR00003340</td>\n",
       "      <td>TARGET2</td>\n",
       "      <td>A04</td>\n",
       "      <td>JCP2022_067426</td>\n",
       "    </tr>\n",
       "    <tr>\n",
       "      <th>1028932</th>\n",
       "      <td>source_9</td>\n",
       "      <td>20210901_Run8</td>\n",
       "      <td>GR00003340</td>\n",
       "      <td>TARGET2</td>\n",
       "      <td>A05</td>\n",
       "      <td>JCP2022_050797</td>\n",
       "    </tr>\n",
       "    <tr>\n",
       "      <th>...</th>\n",
       "      <td>...</td>\n",
       "      <td>...</td>\n",
       "      <td>...</td>\n",
       "      <td>...</td>\n",
       "      <td>...</td>\n",
       "      <td>...</td>\n",
       "    </tr>\n",
       "    <tr>\n",
       "      <th>1070395</th>\n",
       "      <td>source_9</td>\n",
       "      <td>20210918-Run11</td>\n",
       "      <td>GR00004371</td>\n",
       "      <td>TARGET2</td>\n",
       "      <td>Z44</td>\n",
       "      <td>JCP2022_060040</td>\n",
       "    </tr>\n",
       "    <tr>\n",
       "      <th>1070396</th>\n",
       "      <td>source_9</td>\n",
       "      <td>20210918-Run11</td>\n",
       "      <td>GR00004371</td>\n",
       "      <td>TARGET2</td>\n",
       "      <td>Z45</td>\n",
       "      <td>JCP2022_019314</td>\n",
       "    </tr>\n",
       "    <tr>\n",
       "      <th>1070397</th>\n",
       "      <td>source_9</td>\n",
       "      <td>20210918-Run11</td>\n",
       "      <td>GR00004371</td>\n",
       "      <td>TARGET2</td>\n",
       "      <td>Z46</td>\n",
       "      <td>JCP2022_018899</td>\n",
       "    </tr>\n",
       "    <tr>\n",
       "      <th>1070398</th>\n",
       "      <td>source_9</td>\n",
       "      <td>20210918-Run11</td>\n",
       "      <td>GR00004371</td>\n",
       "      <td>TARGET2</td>\n",
       "      <td>Z47</td>\n",
       "      <td>JCP2022_033924</td>\n",
       "    </tr>\n",
       "    <tr>\n",
       "      <th>1070399</th>\n",
       "      <td>source_9</td>\n",
       "      <td>20210918-Run11</td>\n",
       "      <td>GR00004371</td>\n",
       "      <td>TARGET2</td>\n",
       "      <td>Z48</td>\n",
       "      <td>JCP2022_113600</td>\n",
       "    </tr>\n",
       "  </tbody>\n",
       "</table>\n",
       "<p>6144 rows × 6 columns</p>\n",
       "</div>"
      ],
      "text/plain": [
       "        Metadata_Source  Metadata_Batch Metadata_Plate Metadata_PlateType  \\\n",
       "1028928        source_9   20210901_Run8     GR00003340            TARGET2   \n",
       "1028929        source_9   20210901_Run8     GR00003340            TARGET2   \n",
       "1028930        source_9   20210901_Run8     GR00003340            TARGET2   \n",
       "1028931        source_9   20210901_Run8     GR00003340            TARGET2   \n",
       "1028932        source_9   20210901_Run8     GR00003340            TARGET2   \n",
       "...                 ...             ...            ...                ...   \n",
       "1070395        source_9  20210918-Run11     GR00004371            TARGET2   \n",
       "1070396        source_9  20210918-Run11     GR00004371            TARGET2   \n",
       "1070397        source_9  20210918-Run11     GR00004371            TARGET2   \n",
       "1070398        source_9  20210918-Run11     GR00004371            TARGET2   \n",
       "1070399        source_9  20210918-Run11     GR00004371            TARGET2   \n",
       "\n",
       "        Metadata_Well Metadata_JCP2022  \n",
       "1028928           A01   JCP2022_087693  \n",
       "1028929           A02   JCP2022_033924  \n",
       "1028930           A03   JCP2022_109350  \n",
       "1028931           A04   JCP2022_067426  \n",
       "1028932           A05   JCP2022_050797  \n",
       "...               ...              ...  \n",
       "1070395           Z44   JCP2022_060040  \n",
       "1070396           Z45   JCP2022_019314  \n",
       "1070397           Z46   JCP2022_018899  \n",
       "1070398           Z47   JCP2022_033924  \n",
       "1070399           Z48   JCP2022_113600  \n",
       "\n",
       "[6144 rows x 6 columns]"
      ]
     },
     "execution_count": 102,
     "metadata": {},
     "output_type": "execute_result"
    }
   ],
   "source": [
    "selected_targets"
   ]
  },
  {
   "cell_type": "markdown",
   "metadata": {},
   "source": [
    "# We extract the path of the selected plates"
   ]
  },
  {
   "cell_type": "code",
   "execution_count": 103,
   "metadata": {},
   "outputs": [],
   "source": [
    "\n",
    "\n",
    "def s3_cli_str(record):\n",
    "    x = record.to_dict()\n",
    "    return \"aws s3 cp --recursive \\\"s3://cellpainting-gallery/cpg0016-jump/{Metadata_Source}/images/{Metadata_Batch}/images/{Metadata_Plate}/\\\" \\\"./{Metadata_Plate}\\\"\".format(**x)"
   ]
  },
  {
   "cell_type": "code",
   "execution_count": 104,
   "metadata": {},
   "outputs": [
    {
     "data": {
      "text/plain": [
       "array(['aws s3 cp --recursive \"s3://cellpainting-gallery/cpg0016-jump/source_9/images/20210901_Run8/images/GR00003340/\" \"./GR00003340\"',\n",
       "       'aws s3 cp --recursive \"s3://cellpainting-gallery/cpg0016-jump/source_9/images/20210914-Run9/images/GR00003300/\" \"./GR00003300\"',\n",
       "       'aws s3 cp --recursive \"s3://cellpainting-gallery/cpg0016-jump/source_9/images/20210915-Run10/images/GR00003310/\" \"./GR00003310\"',\n",
       "       'aws s3 cp --recursive \"s3://cellpainting-gallery/cpg0016-jump/source_9/images/20210918-Run11/images/GR00004371/\" \"./GR00004371\"'],\n",
       "      dtype=object)"
      ]
     },
     "execution_count": 104,
     "metadata": {},
     "output_type": "execute_result"
    }
   ],
   "source": [
    "selected_targets.apply(s3_cli_str,axis=1).unique()"
   ]
  },
  {
   "cell_type": "code",
   "execution_count": 8,
   "metadata": {},
   "outputs": [],
   "source": [
    "PATH_META = \"/mnt/c/Users/alexi/Documents/data/images/cellpainting/cpg0016-jump/data/metadata_targets.csv\"\n",
    "if not os.path.isfile(PATH_META):\n",
    "    selected_targets.to_csv(PATH_META,index=False)\n",
    "else:\n",
    "    selected_targets = pd.read_csv(PATH_META)"
   ]
  },
  {
   "cell_type": "markdown",
   "metadata": {},
   "source": [
    "We extract all the compounds"
   ]
  },
  {
   "cell_type": "code",
   "execution_count": 19,
   "metadata": {},
   "outputs": [],
   "source": [
    "all_comp_id = set(compound.Metadata_JCP2022.unique())\n",
    "sel_comp_id = set(selected_targets.Metadata_JCP2022.unique())"
   ]
  },
  {
   "cell_type": "markdown",
   "metadata": {},
   "source": [
    "Checking if all selected prturbations are in the dataset"
   ]
  },
  {
   "cell_type": "code",
   "execution_count": 28,
   "metadata": {},
   "outputs": [
    {
     "data": {
      "text/plain": [
       "set()"
      ]
     },
     "execution_count": 28,
     "metadata": {},
     "output_type": "execute_result"
    }
   ],
   "source": [
    "sel_comp_id.difference(all_comp_id)"
   ]
  },
  {
   "cell_type": "code",
   "execution_count": 36,
   "metadata": {},
   "outputs": [],
   "source": [
    "compound_cols = [\"Metadata_JCP2022\",\"Metadata_InChIKey\",\"Metadata_SMILES\"]\n",
    "selected_targets_comp = selected_targets.merge(compound[compound_cols],how=\"left\",on=\"Metadata_JCP2022\")"
   ]
  },
  {
   "cell_type": "code",
   "execution_count": 38,
   "metadata": {},
   "outputs": [],
   "source": [
    "PATH_META_COMP = \"/mnt/c/Users/alexi/Documents/data/images/cellpainting/cpg0016-jump/data/metadata_targets_with_comp.csv\"\n",
    "selected_targets_comp.to_csv(PATH_META_COMP,index=False)"
   ]
  },
  {
   "cell_type": "markdown",
   "metadata": {},
   "source": [
    "Wide form metadata generation"
   ]
  },
  {
   "cell_type": "code",
   "execution_count": 108,
   "metadata": {},
   "outputs": [],
   "source": [
    "NFRAME = 4"
   ]
  },
  {
   "cell_type": "code",
   "execution_count": 40,
   "metadata": {},
   "outputs": [
    {
     "data": {
      "text/html": [
       "<div>\n",
       "<style scoped>\n",
       "    .dataframe tbody tr th:only-of-type {\n",
       "        vertical-align: middle;\n",
       "    }\n",
       "\n",
       "    .dataframe tbody tr th {\n",
       "        vertical-align: top;\n",
       "    }\n",
       "\n",
       "    .dataframe thead th {\n",
       "        text-align: right;\n",
       "    }\n",
       "</style>\n",
       "<table border=\"1\" class=\"dataframe\">\n",
       "  <thead>\n",
       "    <tr style=\"text-align: right;\">\n",
       "      <th></th>\n",
       "      <th>Metadata_Source</th>\n",
       "      <th>Metadata_Batch</th>\n",
       "      <th>Metadata_Plate</th>\n",
       "      <th>Metadata_PlateType</th>\n",
       "      <th>Metadata_Well</th>\n",
       "      <th>Metadata_JCP2022</th>\n",
       "    </tr>\n",
       "  </thead>\n",
       "  <tbody>\n",
       "    <tr>\n",
       "      <th>0</th>\n",
       "      <td>source_9</td>\n",
       "      <td>20210901_Run8</td>\n",
       "      <td>GR00003340</td>\n",
       "      <td>TARGET2</td>\n",
       "      <td>A01</td>\n",
       "      <td>JCP2022_087693</td>\n",
       "    </tr>\n",
       "    <tr>\n",
       "      <th>1</th>\n",
       "      <td>source_9</td>\n",
       "      <td>20210901_Run8</td>\n",
       "      <td>GR00003340</td>\n",
       "      <td>TARGET2</td>\n",
       "      <td>A02</td>\n",
       "      <td>JCP2022_033924</td>\n",
       "    </tr>\n",
       "    <tr>\n",
       "      <th>2</th>\n",
       "      <td>source_9</td>\n",
       "      <td>20210901_Run8</td>\n",
       "      <td>GR00003340</td>\n",
       "      <td>TARGET2</td>\n",
       "      <td>A03</td>\n",
       "      <td>JCP2022_109350</td>\n",
       "    </tr>\n",
       "    <tr>\n",
       "      <th>3</th>\n",
       "      <td>source_9</td>\n",
       "      <td>20210901_Run8</td>\n",
       "      <td>GR00003340</td>\n",
       "      <td>TARGET2</td>\n",
       "      <td>A04</td>\n",
       "      <td>JCP2022_067426</td>\n",
       "    </tr>\n",
       "    <tr>\n",
       "      <th>4</th>\n",
       "      <td>source_9</td>\n",
       "      <td>20210901_Run8</td>\n",
       "      <td>GR00003340</td>\n",
       "      <td>TARGET2</td>\n",
       "      <td>A05</td>\n",
       "      <td>JCP2022_050797</td>\n",
       "    </tr>\n",
       "    <tr>\n",
       "      <th>...</th>\n",
       "      <td>...</td>\n",
       "      <td>...</td>\n",
       "      <td>...</td>\n",
       "      <td>...</td>\n",
       "      <td>...</td>\n",
       "      <td>...</td>\n",
       "    </tr>\n",
       "    <tr>\n",
       "      <th>6139</th>\n",
       "      <td>source_9</td>\n",
       "      <td>20210918-Run11</td>\n",
       "      <td>GR00004371</td>\n",
       "      <td>TARGET2</td>\n",
       "      <td>Z44</td>\n",
       "      <td>JCP2022_060040</td>\n",
       "    </tr>\n",
       "    <tr>\n",
       "      <th>6140</th>\n",
       "      <td>source_9</td>\n",
       "      <td>20210918-Run11</td>\n",
       "      <td>GR00004371</td>\n",
       "      <td>TARGET2</td>\n",
       "      <td>Z45</td>\n",
       "      <td>JCP2022_019314</td>\n",
       "    </tr>\n",
       "    <tr>\n",
       "      <th>6141</th>\n",
       "      <td>source_9</td>\n",
       "      <td>20210918-Run11</td>\n",
       "      <td>GR00004371</td>\n",
       "      <td>TARGET2</td>\n",
       "      <td>Z46</td>\n",
       "      <td>JCP2022_018899</td>\n",
       "    </tr>\n",
       "    <tr>\n",
       "      <th>6142</th>\n",
       "      <td>source_9</td>\n",
       "      <td>20210918-Run11</td>\n",
       "      <td>GR00004371</td>\n",
       "      <td>TARGET2</td>\n",
       "      <td>Z47</td>\n",
       "      <td>JCP2022_033924</td>\n",
       "    </tr>\n",
       "    <tr>\n",
       "      <th>6143</th>\n",
       "      <td>source_9</td>\n",
       "      <td>20210918-Run11</td>\n",
       "      <td>GR00004371</td>\n",
       "      <td>TARGET2</td>\n",
       "      <td>Z48</td>\n",
       "      <td>JCP2022_113600</td>\n",
       "    </tr>\n",
       "  </tbody>\n",
       "</table>\n",
       "<p>6144 rows × 6 columns</p>\n",
       "</div>"
      ],
      "text/plain": [
       "     Metadata_Source  Metadata_Batch Metadata_Plate Metadata_PlateType  \\\n",
       "0           source_9   20210901_Run8     GR00003340            TARGET2   \n",
       "1           source_9   20210901_Run8     GR00003340            TARGET2   \n",
       "2           source_9   20210901_Run8     GR00003340            TARGET2   \n",
       "3           source_9   20210901_Run8     GR00003340            TARGET2   \n",
       "4           source_9   20210901_Run8     GR00003340            TARGET2   \n",
       "...              ...             ...            ...                ...   \n",
       "6139        source_9  20210918-Run11     GR00004371            TARGET2   \n",
       "6140        source_9  20210918-Run11     GR00004371            TARGET2   \n",
       "6141        source_9  20210918-Run11     GR00004371            TARGET2   \n",
       "6142        source_9  20210918-Run11     GR00004371            TARGET2   \n",
       "6143        source_9  20210918-Run11     GR00004371            TARGET2   \n",
       "\n",
       "     Metadata_Well Metadata_JCP2022  \n",
       "0              A01   JCP2022_087693  \n",
       "1              A02   JCP2022_033924  \n",
       "2              A03   JCP2022_109350  \n",
       "3              A04   JCP2022_067426  \n",
       "4              A05   JCP2022_050797  \n",
       "...            ...              ...  \n",
       "6139           Z44   JCP2022_060040  \n",
       "6140           Z45   JCP2022_019314  \n",
       "6141           Z46   JCP2022_018899  \n",
       "6142           Z47   JCP2022_033924  \n",
       "6143           Z48   JCP2022_113600  \n",
       "\n",
       "[6144 rows x 6 columns]"
      ]
     },
     "execution_count": 40,
     "metadata": {},
     "output_type": "execute_result"
    }
   ],
   "source": [
    "selected_targets"
   ]
  },
  {
   "cell_type": "markdown",
   "metadata": {},
   "source": [
    "Formatting the well "
   ]
  },
  {
   "cell_type": "code",
   "execution_count": 49,
   "metadata": {},
   "outputs": [
    {
     "data": {
      "text/plain": [
       "{'ch1': 'DNA',\n",
       " 'ch2': 'ER',\n",
       " 'ch3': 'nucl_cytoRNA',\n",
       " 'ch4': 'actin_golgi_wga',\n",
       " 'ch5': 'mito'}"
      ]
     },
     "execution_count": 49,
     "metadata": {},
     "output_type": "execute_result"
    }
   ],
   "source": [
    "CHANNEL_LABELING_SUB = CHANNEL_LABELING.copy()\n",
    "del CHANNEL_LABELING_SUB[\"ch6\"]\n",
    "CHANNEL_LABELING_SUB"
   ]
  },
  {
   "cell_type": "code",
   "execution_count": 350,
   "metadata": {},
   "outputs": [],
   "source": [
    "# PART TO MODIFY DEPENDING OF YOUR LOCATIONS\n",
    "STR_FILE_LOCATION = \"C:\\\\Users\\\\alexi\\\\Documents\\\\data\\\\images\\\\cellpainting\\\\cpg0016-jump\\\\data\\\\<Plate>\\\\Images\\\\<WellFmt>f0<Frame>p01-<Channel>sk1fk1fl1.tiff\"\n",
    "STR_FILE_LOCATION_DOCKER = \"/mnt/input/<Plate>/Images/<WellFmt>f0<Frame>p01-<Channel>sk1fk1fl1.tiff\"\n",
    "LETTER_TO_POS = {letter:(il+1) for il,letter in enumerate(string.ascii_uppercase)}\n",
    "NFRAME = 4\n",
    "\n",
    "def letters_to_number(row_letters):\n",
    "    nletters = len(row_letters)\n",
    "    cc = 0\n",
    "    for il,l in enumerate(row_letters[::-1]):\n",
    "        cc += (26**il)*LETTER_TO_POS[l]\n",
    "    return cc\n",
    "\n",
    "def well_formatting(well):\n",
    "    \"\"\"Convert for example C2 to r03c02\"\"\"\n",
    "    vre = \"([A-Z]+)([0-9]+)\"\n",
    "    vmatch = re.match(vre,well)\n",
    "    row_letters = vmatch[1]\n",
    "    col = vmatch[2]\n",
    "    nletters = len(row_letters)\n",
    "    row_idx = letters_to_number(row_letters)\n",
    "    pos_string = \"r{:02}c{:02}\".format(row_idx,col)\n",
    "    return pos_string\n",
    "\n",
    "def fmt_row(x,channel,frame):\n",
    "    return {\n",
    "        \"Plate\":x[\"Metadata_Plate\"],\n",
    "        \"WellFmt\": well_formatting(x[\"Metadata_Well\"]),\n",
    "        \"Channel\":str(channel),\n",
    "        \"Frame\":str(frame)\n",
    "    }\n",
    "def build_path_image(dic_fmt,str_location):\n",
    "    for key,val in dic_fmt.items():\n",
    "        replaced = \"<\"+key+\">\"\n",
    "        str_location = str_location.replace(replaced,val)\n",
    "    return str_location\n",
    "\n",
    "def generate_file_path(row,base_string):\n",
    "    arows = []\n",
    "    for iframe in range(1,NFRAME+1):\n",
    "        path_dict = {}\n",
    "        for ch,ch_name in CHANNEL_LABELING_SUB.items():\n",
    "            dic_fmt = fmt_row(row,channel=ch,frame=iframe)\n",
    "            path = build_path_image(dic_fmt,base_string)\n",
    "            path_dict[\"Image_FileName_\"+ch_name] = path\n",
    "        crow = row.copy()\n",
    "        for pname,path in path_dict.items():\n",
    "            crow[pname] = path\n",
    "        arows.append(crow.T)\n",
    "    return pd.concat(arows,axis=1).T\n",
    "        \n",
    "            "
   ]
  },
  {
   "cell_type": "code",
   "execution_count": 223,
   "metadata": {},
   "outputs": [
    {
     "data": {
      "text/plain": [
       "Metadata_Source             source_9\n",
       "Metadata_Batch         20210901_Run8\n",
       "Metadata_Plate            GR00003340\n",
       "Metadata_PlateType           TARGET2\n",
       "Metadata_Well                   AD39\n",
       "Metadata_JCP2022      JCP2022_033400\n",
       "Name: 230, dtype: object"
      ]
     },
     "execution_count": 223,
     "metadata": {},
     "output_type": "execute_result"
    }
   ],
   "source": [
    "selected_targets.iloc[230,:]"
   ]
  },
  {
   "cell_type": "code",
   "execution_count": 224,
   "metadata": {},
   "outputs": [
    {
     "data": {
      "text/plain": [
       "'C:\\\\Users\\\\alexi\\\\Documents\\\\data\\\\images\\\\cellpainting\\\\cpg0016-jump\\\\data\\\\GR00003340\\\\Images\\\\r30c39f03p01-ch1sk1fk1fl1.tiff'"
      ]
     },
     "execution_count": 224,
     "metadata": {},
     "output_type": "execute_result"
    }
   ],
   "source": [
    "generate_file_path(selected_targets_comp.iloc[230,:]).Image_FileName_DNA.iloc[2]"
   ]
  },
  {
   "cell_type": "code",
   "execution_count": 307,
   "metadata": {},
   "outputs": [],
   "source": [
    "BATCH_SIZE = 500"
   ]
  },
  {
   "cell_type": "code",
   "execution_count": 333,
   "metadata": {},
   "outputs": [],
   "source": [
    "import functools\n",
    "pgen = functools.partial(generate_file_path,base_string=STR_FILE_LOCATION)\n",
    "selected_meta_full = pd.concat(selected_targets_comp.apply(pgen,axis=1).tolist())"
   ]
  },
  {
   "cell_type": "markdown",
   "metadata": {},
   "source": [
    "Same things for the WSL paths"
   ]
  },
  {
   "cell_type": "code",
   "execution_count": 351,
   "metadata": {},
   "outputs": [],
   "source": [
    "pgen_docker = functools.partial(generate_file_path,base_string=STR_FILE_LOCATION_DOCKER)\n",
    "selected_meta_full_docker = pd.concat(selected_targets_comp.apply(pgen_docker,axis=1).tolist())"
   ]
  },
  {
   "cell_type": "markdown",
   "metadata": {},
   "source": [
    "We verify that all the files exists to prevent crashes"
   ]
  },
  {
   "cell_type": "code",
   "execution_count": 335,
   "metadata": {},
   "outputs": [],
   "source": [
    "def convert_path_to_wsl(x):\n",
    "    return x.replace(\"\\\\\",\"/\").replace(\"C:\",\"/mnt/c\")\n",
    "\n",
    "def check_images_path(x):\n",
    "    return all([os.path.exists(convert_path_to_wsl(y)) for y in x])"
   ]
  },
  {
   "cell_type": "code",
   "execution_count": 336,
   "metadata": {},
   "outputs": [],
   "source": [
    "all_file_exist = (selected_meta_full[[x for x in selected_meta_full.columns if x.startswith(\"Image_FileName\")]]).apply(check_images_path,axis=1)"
   ]
  },
  {
   "cell_type": "code",
   "execution_count": 337,
   "metadata": {},
   "outputs": [],
   "source": [
    "f_selected_meta_full = selected_meta_full.loc[all_file_exist].copy()\n",
    "f_selected_meta_full[\"Metadata_Window\"] = f_selected_meta_full.Image_FileName_DNA.str.extract(\"r[0-9]{1,2}c[0-9]{1,2}(f[0-9]{2})\")\n",
    "f_selected_meta_full[\"Metadata_WellPlateFrame\"] = f_selected_meta_full[[\"Metadata_Plate\",\"Metadata_Well\",\"Metadata_Window\"]].apply(lambda x:\"_\".join(x),axis=1)"
   ]
  },
  {
   "cell_type": "code",
   "execution_count": 352,
   "metadata": {},
   "outputs": [],
   "source": [
    "f_selected_meta_docker = selected_meta_full_docker.loc[all_file_exist].copy()\n",
    "f_selected_meta_docker[\"Metadata_Window\"] = f_selected_meta_docker.Image_FileName_DNA.str.extract(\"r[0-9]{1,2}c[0-9]{1,2}(f[0-9]{2})\")\n",
    "f_selected_meta_docker[\"Metadata_WellPlateFrame\"] = f_selected_meta_docker[[\"Metadata_Plate\",\"Metadata_Well\",\"Metadata_Window\"]].apply(lambda x:\"_\".join(x),axis=1)"
   ]
  },
  {
   "cell_type": "code",
   "execution_count": 353,
   "metadata": {},
   "outputs": [
    {
     "data": {
      "text/html": [
       "<div>\n",
       "<style scoped>\n",
       "    .dataframe tbody tr th:only-of-type {\n",
       "        vertical-align: middle;\n",
       "    }\n",
       "\n",
       "    .dataframe tbody tr th {\n",
       "        vertical-align: top;\n",
       "    }\n",
       "\n",
       "    .dataframe thead th {\n",
       "        text-align: right;\n",
       "    }\n",
       "</style>\n",
       "<table border=\"1\" class=\"dataframe\">\n",
       "  <thead>\n",
       "    <tr style=\"text-align: right;\">\n",
       "      <th></th>\n",
       "      <th>Metadata_Source</th>\n",
       "      <th>Metadata_Batch</th>\n",
       "      <th>Metadata_Plate</th>\n",
       "      <th>Metadata_PlateType</th>\n",
       "      <th>Metadata_Well</th>\n",
       "      <th>Metadata_JCP2022</th>\n",
       "      <th>Metadata_InChIKey</th>\n",
       "      <th>Metadata_SMILES</th>\n",
       "      <th>Image_FileName_DNA</th>\n",
       "      <th>Image_FileName_ER</th>\n",
       "      <th>Image_FileName_nucl_cytoRNA</th>\n",
       "      <th>Image_FileName_actin_golgi_wga</th>\n",
       "      <th>Image_FileName_mito</th>\n",
       "      <th>Metadata_Window</th>\n",
       "      <th>Metadata_WellPlateFrame</th>\n",
       "    </tr>\n",
       "  </thead>\n",
       "  <tbody>\n",
       "    <tr>\n",
       "      <th>0</th>\n",
       "      <td>source_9</td>\n",
       "      <td>20210901_Run8</td>\n",
       "      <td>GR00003340</td>\n",
       "      <td>TARGET2</td>\n",
       "      <td>A01</td>\n",
       "      <td>JCP2022_087693</td>\n",
       "      <td>TZDUHAJSIBHXDL-UHFFFAOYSA-N</td>\n",
       "      <td>CC(OC(=O)NCC1(CC(=O)O)CCCCC1)OC(=O)C(C)C</td>\n",
       "      <td>/mnt/input/GR00003340/Images/r01c01f01p01-ch1s...</td>\n",
       "      <td>/mnt/input/GR00003340/Images/r01c01f01p01-ch2s...</td>\n",
       "      <td>/mnt/input/GR00003340/Images/r01c01f01p01-ch3s...</td>\n",
       "      <td>/mnt/input/GR00003340/Images/r01c01f01p01-ch4s...</td>\n",
       "      <td>/mnt/input/GR00003340/Images/r01c01f01p01-ch5s...</td>\n",
       "      <td>f01</td>\n",
       "      <td>GR00003340_A01_f01</td>\n",
       "    </tr>\n",
       "    <tr>\n",
       "      <th>0</th>\n",
       "      <td>source_9</td>\n",
       "      <td>20210901_Run8</td>\n",
       "      <td>GR00003340</td>\n",
       "      <td>TARGET2</td>\n",
       "      <td>A01</td>\n",
       "      <td>JCP2022_087693</td>\n",
       "      <td>TZDUHAJSIBHXDL-UHFFFAOYSA-N</td>\n",
       "      <td>CC(OC(=O)NCC1(CC(=O)O)CCCCC1)OC(=O)C(C)C</td>\n",
       "      <td>/mnt/input/GR00003340/Images/r01c01f02p01-ch1s...</td>\n",
       "      <td>/mnt/input/GR00003340/Images/r01c01f02p01-ch2s...</td>\n",
       "      <td>/mnt/input/GR00003340/Images/r01c01f02p01-ch3s...</td>\n",
       "      <td>/mnt/input/GR00003340/Images/r01c01f02p01-ch4s...</td>\n",
       "      <td>/mnt/input/GR00003340/Images/r01c01f02p01-ch5s...</td>\n",
       "      <td>f02</td>\n",
       "      <td>GR00003340_A01_f02</td>\n",
       "    </tr>\n",
       "    <tr>\n",
       "      <th>0</th>\n",
       "      <td>source_9</td>\n",
       "      <td>20210901_Run8</td>\n",
       "      <td>GR00003340</td>\n",
       "      <td>TARGET2</td>\n",
       "      <td>A01</td>\n",
       "      <td>JCP2022_087693</td>\n",
       "      <td>TZDUHAJSIBHXDL-UHFFFAOYSA-N</td>\n",
       "      <td>CC(OC(=O)NCC1(CC(=O)O)CCCCC1)OC(=O)C(C)C</td>\n",
       "      <td>/mnt/input/GR00003340/Images/r01c01f03p01-ch1s...</td>\n",
       "      <td>/mnt/input/GR00003340/Images/r01c01f03p01-ch2s...</td>\n",
       "      <td>/mnt/input/GR00003340/Images/r01c01f03p01-ch3s...</td>\n",
       "      <td>/mnt/input/GR00003340/Images/r01c01f03p01-ch4s...</td>\n",
       "      <td>/mnt/input/GR00003340/Images/r01c01f03p01-ch5s...</td>\n",
       "      <td>f03</td>\n",
       "      <td>GR00003340_A01_f03</td>\n",
       "    </tr>\n",
       "    <tr>\n",
       "      <th>0</th>\n",
       "      <td>source_9</td>\n",
       "      <td>20210901_Run8</td>\n",
       "      <td>GR00003340</td>\n",
       "      <td>TARGET2</td>\n",
       "      <td>A01</td>\n",
       "      <td>JCP2022_087693</td>\n",
       "      <td>TZDUHAJSIBHXDL-UHFFFAOYSA-N</td>\n",
       "      <td>CC(OC(=O)NCC1(CC(=O)O)CCCCC1)OC(=O)C(C)C</td>\n",
       "      <td>/mnt/input/GR00003340/Images/r01c01f04p01-ch1s...</td>\n",
       "      <td>/mnt/input/GR00003340/Images/r01c01f04p01-ch2s...</td>\n",
       "      <td>/mnt/input/GR00003340/Images/r01c01f04p01-ch3s...</td>\n",
       "      <td>/mnt/input/GR00003340/Images/r01c01f04p01-ch4s...</td>\n",
       "      <td>/mnt/input/GR00003340/Images/r01c01f04p01-ch5s...</td>\n",
       "      <td>f04</td>\n",
       "      <td>GR00003340_A01_f04</td>\n",
       "    </tr>\n",
       "    <tr>\n",
       "      <th>1</th>\n",
       "      <td>source_9</td>\n",
       "      <td>20210901_Run8</td>\n",
       "      <td>GR00003340</td>\n",
       "      <td>TARGET2</td>\n",
       "      <td>A02</td>\n",
       "      <td>JCP2022_033924</td>\n",
       "      <td>IAZDPXIOMUYVGZ-UHFFFAOYSA-N</td>\n",
       "      <td>C[S+](C)[O-]</td>\n",
       "      <td>/mnt/input/GR00003340/Images/r01c02f01p01-ch1s...</td>\n",
       "      <td>/mnt/input/GR00003340/Images/r01c02f01p01-ch2s...</td>\n",
       "      <td>/mnt/input/GR00003340/Images/r01c02f01p01-ch3s...</td>\n",
       "      <td>/mnt/input/GR00003340/Images/r01c02f01p01-ch4s...</td>\n",
       "      <td>/mnt/input/GR00003340/Images/r01c02f01p01-ch5s...</td>\n",
       "      <td>f01</td>\n",
       "      <td>GR00003340_A02_f01</td>\n",
       "    </tr>\n",
       "    <tr>\n",
       "      <th>...</th>\n",
       "      <td>...</td>\n",
       "      <td>...</td>\n",
       "      <td>...</td>\n",
       "      <td>...</td>\n",
       "      <td>...</td>\n",
       "      <td>...</td>\n",
       "      <td>...</td>\n",
       "      <td>...</td>\n",
       "      <td>...</td>\n",
       "      <td>...</td>\n",
       "      <td>...</td>\n",
       "      <td>...</td>\n",
       "      <td>...</td>\n",
       "      <td>...</td>\n",
       "      <td>...</td>\n",
       "    </tr>\n",
       "    <tr>\n",
       "      <th>6142</th>\n",
       "      <td>source_9</td>\n",
       "      <td>20210918-Run11</td>\n",
       "      <td>GR00004371</td>\n",
       "      <td>TARGET2</td>\n",
       "      <td>Z47</td>\n",
       "      <td>JCP2022_033924</td>\n",
       "      <td>IAZDPXIOMUYVGZ-UHFFFAOYSA-N</td>\n",
       "      <td>C[S+](C)[O-]</td>\n",
       "      <td>/mnt/input/GR00004371/Images/r26c47f04p01-ch1s...</td>\n",
       "      <td>/mnt/input/GR00004371/Images/r26c47f04p01-ch2s...</td>\n",
       "      <td>/mnt/input/GR00004371/Images/r26c47f04p01-ch3s...</td>\n",
       "      <td>/mnt/input/GR00004371/Images/r26c47f04p01-ch4s...</td>\n",
       "      <td>/mnt/input/GR00004371/Images/r26c47f04p01-ch5s...</td>\n",
       "      <td>f04</td>\n",
       "      <td>GR00004371_Z47_f04</td>\n",
       "    </tr>\n",
       "    <tr>\n",
       "      <th>6143</th>\n",
       "      <td>source_9</td>\n",
       "      <td>20210918-Run11</td>\n",
       "      <td>GR00004371</td>\n",
       "      <td>TARGET2</td>\n",
       "      <td>Z48</td>\n",
       "      <td>JCP2022_113600</td>\n",
       "      <td>ZIUDADZJCKGWKR-UHFFFAOYSA-N</td>\n",
       "      <td>Cc1cc(-c2ccc3c(c2)CCC3N2CC3(CCN(C(=O)Cc4cn5cc(...</td>\n",
       "      <td>/mnt/input/GR00004371/Images/r26c48f01p01-ch1s...</td>\n",
       "      <td>/mnt/input/GR00004371/Images/r26c48f01p01-ch2s...</td>\n",
       "      <td>/mnt/input/GR00004371/Images/r26c48f01p01-ch3s...</td>\n",
       "      <td>/mnt/input/GR00004371/Images/r26c48f01p01-ch4s...</td>\n",
       "      <td>/mnt/input/GR00004371/Images/r26c48f01p01-ch5s...</td>\n",
       "      <td>f01</td>\n",
       "      <td>GR00004371_Z48_f01</td>\n",
       "    </tr>\n",
       "    <tr>\n",
       "      <th>6143</th>\n",
       "      <td>source_9</td>\n",
       "      <td>20210918-Run11</td>\n",
       "      <td>GR00004371</td>\n",
       "      <td>TARGET2</td>\n",
       "      <td>Z48</td>\n",
       "      <td>JCP2022_113600</td>\n",
       "      <td>ZIUDADZJCKGWKR-UHFFFAOYSA-N</td>\n",
       "      <td>Cc1cc(-c2ccc3c(c2)CCC3N2CC3(CCN(C(=O)Cc4cn5cc(...</td>\n",
       "      <td>/mnt/input/GR00004371/Images/r26c48f02p01-ch1s...</td>\n",
       "      <td>/mnt/input/GR00004371/Images/r26c48f02p01-ch2s...</td>\n",
       "      <td>/mnt/input/GR00004371/Images/r26c48f02p01-ch3s...</td>\n",
       "      <td>/mnt/input/GR00004371/Images/r26c48f02p01-ch4s...</td>\n",
       "      <td>/mnt/input/GR00004371/Images/r26c48f02p01-ch5s...</td>\n",
       "      <td>f02</td>\n",
       "      <td>GR00004371_Z48_f02</td>\n",
       "    </tr>\n",
       "    <tr>\n",
       "      <th>6143</th>\n",
       "      <td>source_9</td>\n",
       "      <td>20210918-Run11</td>\n",
       "      <td>GR00004371</td>\n",
       "      <td>TARGET2</td>\n",
       "      <td>Z48</td>\n",
       "      <td>JCP2022_113600</td>\n",
       "      <td>ZIUDADZJCKGWKR-UHFFFAOYSA-N</td>\n",
       "      <td>Cc1cc(-c2ccc3c(c2)CCC3N2CC3(CCN(C(=O)Cc4cn5cc(...</td>\n",
       "      <td>/mnt/input/GR00004371/Images/r26c48f03p01-ch1s...</td>\n",
       "      <td>/mnt/input/GR00004371/Images/r26c48f03p01-ch2s...</td>\n",
       "      <td>/mnt/input/GR00004371/Images/r26c48f03p01-ch3s...</td>\n",
       "      <td>/mnt/input/GR00004371/Images/r26c48f03p01-ch4s...</td>\n",
       "      <td>/mnt/input/GR00004371/Images/r26c48f03p01-ch5s...</td>\n",
       "      <td>f03</td>\n",
       "      <td>GR00004371_Z48_f03</td>\n",
       "    </tr>\n",
       "    <tr>\n",
       "      <th>6143</th>\n",
       "      <td>source_9</td>\n",
       "      <td>20210918-Run11</td>\n",
       "      <td>GR00004371</td>\n",
       "      <td>TARGET2</td>\n",
       "      <td>Z48</td>\n",
       "      <td>JCP2022_113600</td>\n",
       "      <td>ZIUDADZJCKGWKR-UHFFFAOYSA-N</td>\n",
       "      <td>Cc1cc(-c2ccc3c(c2)CCC3N2CC3(CCN(C(=O)Cc4cn5cc(...</td>\n",
       "      <td>/mnt/input/GR00004371/Images/r26c48f04p01-ch1s...</td>\n",
       "      <td>/mnt/input/GR00004371/Images/r26c48f04p01-ch2s...</td>\n",
       "      <td>/mnt/input/GR00004371/Images/r26c48f04p01-ch3s...</td>\n",
       "      <td>/mnt/input/GR00004371/Images/r26c48f04p01-ch4s...</td>\n",
       "      <td>/mnt/input/GR00004371/Images/r26c48f04p01-ch5s...</td>\n",
       "      <td>f04</td>\n",
       "      <td>GR00004371_Z48_f04</td>\n",
       "    </tr>\n",
       "  </tbody>\n",
       "</table>\n",
       "<p>19810 rows × 15 columns</p>\n",
       "</div>"
      ],
      "text/plain": [
       "     Metadata_Source  Metadata_Batch Metadata_Plate Metadata_PlateType  \\\n",
       "0           source_9   20210901_Run8     GR00003340            TARGET2   \n",
       "0           source_9   20210901_Run8     GR00003340            TARGET2   \n",
       "0           source_9   20210901_Run8     GR00003340            TARGET2   \n",
       "0           source_9   20210901_Run8     GR00003340            TARGET2   \n",
       "1           source_9   20210901_Run8     GR00003340            TARGET2   \n",
       "...              ...             ...            ...                ...   \n",
       "6142        source_9  20210918-Run11     GR00004371            TARGET2   \n",
       "6143        source_9  20210918-Run11     GR00004371            TARGET2   \n",
       "6143        source_9  20210918-Run11     GR00004371            TARGET2   \n",
       "6143        source_9  20210918-Run11     GR00004371            TARGET2   \n",
       "6143        source_9  20210918-Run11     GR00004371            TARGET2   \n",
       "\n",
       "     Metadata_Well Metadata_JCP2022            Metadata_InChIKey  \\\n",
       "0              A01   JCP2022_087693  TZDUHAJSIBHXDL-UHFFFAOYSA-N   \n",
       "0              A01   JCP2022_087693  TZDUHAJSIBHXDL-UHFFFAOYSA-N   \n",
       "0              A01   JCP2022_087693  TZDUHAJSIBHXDL-UHFFFAOYSA-N   \n",
       "0              A01   JCP2022_087693  TZDUHAJSIBHXDL-UHFFFAOYSA-N   \n",
       "1              A02   JCP2022_033924  IAZDPXIOMUYVGZ-UHFFFAOYSA-N   \n",
       "...            ...              ...                          ...   \n",
       "6142           Z47   JCP2022_033924  IAZDPXIOMUYVGZ-UHFFFAOYSA-N   \n",
       "6143           Z48   JCP2022_113600  ZIUDADZJCKGWKR-UHFFFAOYSA-N   \n",
       "6143           Z48   JCP2022_113600  ZIUDADZJCKGWKR-UHFFFAOYSA-N   \n",
       "6143           Z48   JCP2022_113600  ZIUDADZJCKGWKR-UHFFFAOYSA-N   \n",
       "6143           Z48   JCP2022_113600  ZIUDADZJCKGWKR-UHFFFAOYSA-N   \n",
       "\n",
       "                                        Metadata_SMILES  \\\n",
       "0              CC(OC(=O)NCC1(CC(=O)O)CCCCC1)OC(=O)C(C)C   \n",
       "0              CC(OC(=O)NCC1(CC(=O)O)CCCCC1)OC(=O)C(C)C   \n",
       "0              CC(OC(=O)NCC1(CC(=O)O)CCCCC1)OC(=O)C(C)C   \n",
       "0              CC(OC(=O)NCC1(CC(=O)O)CCCCC1)OC(=O)C(C)C   \n",
       "1                                          C[S+](C)[O-]   \n",
       "...                                                 ...   \n",
       "6142                                       C[S+](C)[O-]   \n",
       "6143  Cc1cc(-c2ccc3c(c2)CCC3N2CC3(CCN(C(=O)Cc4cn5cc(...   \n",
       "6143  Cc1cc(-c2ccc3c(c2)CCC3N2CC3(CCN(C(=O)Cc4cn5cc(...   \n",
       "6143  Cc1cc(-c2ccc3c(c2)CCC3N2CC3(CCN(C(=O)Cc4cn5cc(...   \n",
       "6143  Cc1cc(-c2ccc3c(c2)CCC3N2CC3(CCN(C(=O)Cc4cn5cc(...   \n",
       "\n",
       "                                     Image_FileName_DNA  \\\n",
       "0     /mnt/input/GR00003340/Images/r01c01f01p01-ch1s...   \n",
       "0     /mnt/input/GR00003340/Images/r01c01f02p01-ch1s...   \n",
       "0     /mnt/input/GR00003340/Images/r01c01f03p01-ch1s...   \n",
       "0     /mnt/input/GR00003340/Images/r01c01f04p01-ch1s...   \n",
       "1     /mnt/input/GR00003340/Images/r01c02f01p01-ch1s...   \n",
       "...                                                 ...   \n",
       "6142  /mnt/input/GR00004371/Images/r26c47f04p01-ch1s...   \n",
       "6143  /mnt/input/GR00004371/Images/r26c48f01p01-ch1s...   \n",
       "6143  /mnt/input/GR00004371/Images/r26c48f02p01-ch1s...   \n",
       "6143  /mnt/input/GR00004371/Images/r26c48f03p01-ch1s...   \n",
       "6143  /mnt/input/GR00004371/Images/r26c48f04p01-ch1s...   \n",
       "\n",
       "                                      Image_FileName_ER  \\\n",
       "0     /mnt/input/GR00003340/Images/r01c01f01p01-ch2s...   \n",
       "0     /mnt/input/GR00003340/Images/r01c01f02p01-ch2s...   \n",
       "0     /mnt/input/GR00003340/Images/r01c01f03p01-ch2s...   \n",
       "0     /mnt/input/GR00003340/Images/r01c01f04p01-ch2s...   \n",
       "1     /mnt/input/GR00003340/Images/r01c02f01p01-ch2s...   \n",
       "...                                                 ...   \n",
       "6142  /mnt/input/GR00004371/Images/r26c47f04p01-ch2s...   \n",
       "6143  /mnt/input/GR00004371/Images/r26c48f01p01-ch2s...   \n",
       "6143  /mnt/input/GR00004371/Images/r26c48f02p01-ch2s...   \n",
       "6143  /mnt/input/GR00004371/Images/r26c48f03p01-ch2s...   \n",
       "6143  /mnt/input/GR00004371/Images/r26c48f04p01-ch2s...   \n",
       "\n",
       "                            Image_FileName_nucl_cytoRNA  \\\n",
       "0     /mnt/input/GR00003340/Images/r01c01f01p01-ch3s...   \n",
       "0     /mnt/input/GR00003340/Images/r01c01f02p01-ch3s...   \n",
       "0     /mnt/input/GR00003340/Images/r01c01f03p01-ch3s...   \n",
       "0     /mnt/input/GR00003340/Images/r01c01f04p01-ch3s...   \n",
       "1     /mnt/input/GR00003340/Images/r01c02f01p01-ch3s...   \n",
       "...                                                 ...   \n",
       "6142  /mnt/input/GR00004371/Images/r26c47f04p01-ch3s...   \n",
       "6143  /mnt/input/GR00004371/Images/r26c48f01p01-ch3s...   \n",
       "6143  /mnt/input/GR00004371/Images/r26c48f02p01-ch3s...   \n",
       "6143  /mnt/input/GR00004371/Images/r26c48f03p01-ch3s...   \n",
       "6143  /mnt/input/GR00004371/Images/r26c48f04p01-ch3s...   \n",
       "\n",
       "                         Image_FileName_actin_golgi_wga  \\\n",
       "0     /mnt/input/GR00003340/Images/r01c01f01p01-ch4s...   \n",
       "0     /mnt/input/GR00003340/Images/r01c01f02p01-ch4s...   \n",
       "0     /mnt/input/GR00003340/Images/r01c01f03p01-ch4s...   \n",
       "0     /mnt/input/GR00003340/Images/r01c01f04p01-ch4s...   \n",
       "1     /mnt/input/GR00003340/Images/r01c02f01p01-ch4s...   \n",
       "...                                                 ...   \n",
       "6142  /mnt/input/GR00004371/Images/r26c47f04p01-ch4s...   \n",
       "6143  /mnt/input/GR00004371/Images/r26c48f01p01-ch4s...   \n",
       "6143  /mnt/input/GR00004371/Images/r26c48f02p01-ch4s...   \n",
       "6143  /mnt/input/GR00004371/Images/r26c48f03p01-ch4s...   \n",
       "6143  /mnt/input/GR00004371/Images/r26c48f04p01-ch4s...   \n",
       "\n",
       "                                    Image_FileName_mito Metadata_Window  \\\n",
       "0     /mnt/input/GR00003340/Images/r01c01f01p01-ch5s...             f01   \n",
       "0     /mnt/input/GR00003340/Images/r01c01f02p01-ch5s...             f02   \n",
       "0     /mnt/input/GR00003340/Images/r01c01f03p01-ch5s...             f03   \n",
       "0     /mnt/input/GR00003340/Images/r01c01f04p01-ch5s...             f04   \n",
       "1     /mnt/input/GR00003340/Images/r01c02f01p01-ch5s...             f01   \n",
       "...                                                 ...             ...   \n",
       "6142  /mnt/input/GR00004371/Images/r26c47f04p01-ch5s...             f04   \n",
       "6143  /mnt/input/GR00004371/Images/r26c48f01p01-ch5s...             f01   \n",
       "6143  /mnt/input/GR00004371/Images/r26c48f02p01-ch5s...             f02   \n",
       "6143  /mnt/input/GR00004371/Images/r26c48f03p01-ch5s...             f03   \n",
       "6143  /mnt/input/GR00004371/Images/r26c48f04p01-ch5s...             f04   \n",
       "\n",
       "     Metadata_WellPlateFrame  \n",
       "0         GR00003340_A01_f01  \n",
       "0         GR00003340_A01_f02  \n",
       "0         GR00003340_A01_f03  \n",
       "0         GR00003340_A01_f04  \n",
       "1         GR00003340_A02_f01  \n",
       "...                      ...  \n",
       "6142      GR00004371_Z47_f04  \n",
       "6143      GR00004371_Z48_f01  \n",
       "6143      GR00004371_Z48_f02  \n",
       "6143      GR00004371_Z48_f03  \n",
       "6143      GR00004371_Z48_f04  \n",
       "\n",
       "[19810 rows x 15 columns]"
      ]
     },
     "execution_count": 353,
     "metadata": {},
     "output_type": "execute_result"
    }
   ],
   "source": [
    "f_selected_meta_docker"
   ]
  },
  {
   "cell_type": "markdown",
   "metadata": {},
   "source": [
    "We add a batch label for processing in parallel"
   ]
  },
  {
   "cell_type": "code",
   "execution_count": 338,
   "metadata": {},
   "outputs": [],
   "source": [
    "f_selected_meta_full[\"Metadata_ProcessingBatch\"] = (pd.Series(list(range(f_selected_meta_full.shape[0])))//BATCH_SIZE)+1"
   ]
  },
  {
   "cell_type": "markdown",
   "metadata": {},
   "source": [
    "We create the same table for WSL"
   ]
  },
  {
   "cell_type": "code",
   "execution_count": 342,
   "metadata": {},
   "outputs": [],
   "source": [
    "f_selected_meta_full_wsl = f_selected_meta_full.copy()"
   ]
  },
  {
   "cell_type": "markdown",
   "metadata": {},
   "source": [
    "We change all the path to WSL"
   ]
  },
  {
   "cell_type": "code",
   "execution_count": 344,
   "metadata": {},
   "outputs": [],
   "source": [
    "for ncol in f_selected_meta_full.columns:\n",
    "    if ncol.startswith(\"Image_FileName\"):\n",
    "        f_selected_meta_full[ncol] = (f_selected_meta_full[ncol].str.replace(\"\\\\\",\"/\")).str.replace(\"C:\",\"/mnt/c\")"
   ]
  },
  {
   "cell_type": "code",
   "execution_count": 345,
   "metadata": {},
   "outputs": [
    {
     "data": {
      "text/html": [
       "<div>\n",
       "<style scoped>\n",
       "    .dataframe tbody tr th:only-of-type {\n",
       "        vertical-align: middle;\n",
       "    }\n",
       "\n",
       "    .dataframe tbody tr th {\n",
       "        vertical-align: top;\n",
       "    }\n",
       "\n",
       "    .dataframe thead th {\n",
       "        text-align: right;\n",
       "    }\n",
       "</style>\n",
       "<table border=\"1\" class=\"dataframe\">\n",
       "  <thead>\n",
       "    <tr style=\"text-align: right;\">\n",
       "      <th></th>\n",
       "      <th>Metadata_Source</th>\n",
       "      <th>Metadata_Batch</th>\n",
       "      <th>Metadata_Plate</th>\n",
       "      <th>Metadata_PlateType</th>\n",
       "      <th>Metadata_Well</th>\n",
       "      <th>Metadata_JCP2022</th>\n",
       "      <th>Metadata_InChIKey</th>\n",
       "      <th>Metadata_SMILES</th>\n",
       "      <th>Image_FileName_DNA</th>\n",
       "      <th>Image_FileName_ER</th>\n",
       "      <th>Image_FileName_nucl_cytoRNA</th>\n",
       "      <th>Image_FileName_actin_golgi_wga</th>\n",
       "      <th>Image_FileName_mito</th>\n",
       "      <th>Metadata_Window</th>\n",
       "      <th>Metadata_WellPlateFrame</th>\n",
       "      <th>Metadata_ProcessingBatch</th>\n",
       "    </tr>\n",
       "  </thead>\n",
       "  <tbody>\n",
       "    <tr>\n",
       "      <th>0</th>\n",
       "      <td>source_9</td>\n",
       "      <td>20210901_Run8</td>\n",
       "      <td>GR00003340</td>\n",
       "      <td>TARGET2</td>\n",
       "      <td>A01</td>\n",
       "      <td>JCP2022_087693</td>\n",
       "      <td>TZDUHAJSIBHXDL-UHFFFAOYSA-N</td>\n",
       "      <td>CC(OC(=O)NCC1(CC(=O)O)CCCCC1)OC(=O)C(C)C</td>\n",
       "      <td>/mnt/c/Users/alexi/Documents/data/images/cellp...</td>\n",
       "      <td>/mnt/c/Users/alexi/Documents/data/images/cellp...</td>\n",
       "      <td>/mnt/c/Users/alexi/Documents/data/images/cellp...</td>\n",
       "      <td>/mnt/c/Users/alexi/Documents/data/images/cellp...</td>\n",
       "      <td>/mnt/c/Users/alexi/Documents/data/images/cellp...</td>\n",
       "      <td>f01</td>\n",
       "      <td>GR00003340_A01_f01</td>\n",
       "      <td>1</td>\n",
       "    </tr>\n",
       "    <tr>\n",
       "      <th>0</th>\n",
       "      <td>source_9</td>\n",
       "      <td>20210901_Run8</td>\n",
       "      <td>GR00003340</td>\n",
       "      <td>TARGET2</td>\n",
       "      <td>A01</td>\n",
       "      <td>JCP2022_087693</td>\n",
       "      <td>TZDUHAJSIBHXDL-UHFFFAOYSA-N</td>\n",
       "      <td>CC(OC(=O)NCC1(CC(=O)O)CCCCC1)OC(=O)C(C)C</td>\n",
       "      <td>/mnt/c/Users/alexi/Documents/data/images/cellp...</td>\n",
       "      <td>/mnt/c/Users/alexi/Documents/data/images/cellp...</td>\n",
       "      <td>/mnt/c/Users/alexi/Documents/data/images/cellp...</td>\n",
       "      <td>/mnt/c/Users/alexi/Documents/data/images/cellp...</td>\n",
       "      <td>/mnt/c/Users/alexi/Documents/data/images/cellp...</td>\n",
       "      <td>f02</td>\n",
       "      <td>GR00003340_A01_f02</td>\n",
       "      <td>1</td>\n",
       "    </tr>\n",
       "    <tr>\n",
       "      <th>0</th>\n",
       "      <td>source_9</td>\n",
       "      <td>20210901_Run8</td>\n",
       "      <td>GR00003340</td>\n",
       "      <td>TARGET2</td>\n",
       "      <td>A01</td>\n",
       "      <td>JCP2022_087693</td>\n",
       "      <td>TZDUHAJSIBHXDL-UHFFFAOYSA-N</td>\n",
       "      <td>CC(OC(=O)NCC1(CC(=O)O)CCCCC1)OC(=O)C(C)C</td>\n",
       "      <td>/mnt/c/Users/alexi/Documents/data/images/cellp...</td>\n",
       "      <td>/mnt/c/Users/alexi/Documents/data/images/cellp...</td>\n",
       "      <td>/mnt/c/Users/alexi/Documents/data/images/cellp...</td>\n",
       "      <td>/mnt/c/Users/alexi/Documents/data/images/cellp...</td>\n",
       "      <td>/mnt/c/Users/alexi/Documents/data/images/cellp...</td>\n",
       "      <td>f03</td>\n",
       "      <td>GR00003340_A01_f03</td>\n",
       "      <td>1</td>\n",
       "    </tr>\n",
       "    <tr>\n",
       "      <th>0</th>\n",
       "      <td>source_9</td>\n",
       "      <td>20210901_Run8</td>\n",
       "      <td>GR00003340</td>\n",
       "      <td>TARGET2</td>\n",
       "      <td>A01</td>\n",
       "      <td>JCP2022_087693</td>\n",
       "      <td>TZDUHAJSIBHXDL-UHFFFAOYSA-N</td>\n",
       "      <td>CC(OC(=O)NCC1(CC(=O)O)CCCCC1)OC(=O)C(C)C</td>\n",
       "      <td>/mnt/c/Users/alexi/Documents/data/images/cellp...</td>\n",
       "      <td>/mnt/c/Users/alexi/Documents/data/images/cellp...</td>\n",
       "      <td>/mnt/c/Users/alexi/Documents/data/images/cellp...</td>\n",
       "      <td>/mnt/c/Users/alexi/Documents/data/images/cellp...</td>\n",
       "      <td>/mnt/c/Users/alexi/Documents/data/images/cellp...</td>\n",
       "      <td>f04</td>\n",
       "      <td>GR00003340_A01_f04</td>\n",
       "      <td>1</td>\n",
       "    </tr>\n",
       "    <tr>\n",
       "      <th>1</th>\n",
       "      <td>source_9</td>\n",
       "      <td>20210901_Run8</td>\n",
       "      <td>GR00003340</td>\n",
       "      <td>TARGET2</td>\n",
       "      <td>A02</td>\n",
       "      <td>JCP2022_033924</td>\n",
       "      <td>IAZDPXIOMUYVGZ-UHFFFAOYSA-N</td>\n",
       "      <td>C[S+](C)[O-]</td>\n",
       "      <td>/mnt/c/Users/alexi/Documents/data/images/cellp...</td>\n",
       "      <td>/mnt/c/Users/alexi/Documents/data/images/cellp...</td>\n",
       "      <td>/mnt/c/Users/alexi/Documents/data/images/cellp...</td>\n",
       "      <td>/mnt/c/Users/alexi/Documents/data/images/cellp...</td>\n",
       "      <td>/mnt/c/Users/alexi/Documents/data/images/cellp...</td>\n",
       "      <td>f01</td>\n",
       "      <td>GR00003340_A02_f01</td>\n",
       "      <td>1</td>\n",
       "    </tr>\n",
       "  </tbody>\n",
       "</table>\n",
       "</div>"
      ],
      "text/plain": [
       "  Metadata_Source Metadata_Batch Metadata_Plate Metadata_PlateType  \\\n",
       "0        source_9  20210901_Run8     GR00003340            TARGET2   \n",
       "0        source_9  20210901_Run8     GR00003340            TARGET2   \n",
       "0        source_9  20210901_Run8     GR00003340            TARGET2   \n",
       "0        source_9  20210901_Run8     GR00003340            TARGET2   \n",
       "1        source_9  20210901_Run8     GR00003340            TARGET2   \n",
       "\n",
       "  Metadata_Well Metadata_JCP2022            Metadata_InChIKey  \\\n",
       "0           A01   JCP2022_087693  TZDUHAJSIBHXDL-UHFFFAOYSA-N   \n",
       "0           A01   JCP2022_087693  TZDUHAJSIBHXDL-UHFFFAOYSA-N   \n",
       "0           A01   JCP2022_087693  TZDUHAJSIBHXDL-UHFFFAOYSA-N   \n",
       "0           A01   JCP2022_087693  TZDUHAJSIBHXDL-UHFFFAOYSA-N   \n",
       "1           A02   JCP2022_033924  IAZDPXIOMUYVGZ-UHFFFAOYSA-N   \n",
       "\n",
       "                            Metadata_SMILES  \\\n",
       "0  CC(OC(=O)NCC1(CC(=O)O)CCCCC1)OC(=O)C(C)C   \n",
       "0  CC(OC(=O)NCC1(CC(=O)O)CCCCC1)OC(=O)C(C)C   \n",
       "0  CC(OC(=O)NCC1(CC(=O)O)CCCCC1)OC(=O)C(C)C   \n",
       "0  CC(OC(=O)NCC1(CC(=O)O)CCCCC1)OC(=O)C(C)C   \n",
       "1                              C[S+](C)[O-]   \n",
       "\n",
       "                                  Image_FileName_DNA  \\\n",
       "0  /mnt/c/Users/alexi/Documents/data/images/cellp...   \n",
       "0  /mnt/c/Users/alexi/Documents/data/images/cellp...   \n",
       "0  /mnt/c/Users/alexi/Documents/data/images/cellp...   \n",
       "0  /mnt/c/Users/alexi/Documents/data/images/cellp...   \n",
       "1  /mnt/c/Users/alexi/Documents/data/images/cellp...   \n",
       "\n",
       "                                   Image_FileName_ER  \\\n",
       "0  /mnt/c/Users/alexi/Documents/data/images/cellp...   \n",
       "0  /mnt/c/Users/alexi/Documents/data/images/cellp...   \n",
       "0  /mnt/c/Users/alexi/Documents/data/images/cellp...   \n",
       "0  /mnt/c/Users/alexi/Documents/data/images/cellp...   \n",
       "1  /mnt/c/Users/alexi/Documents/data/images/cellp...   \n",
       "\n",
       "                         Image_FileName_nucl_cytoRNA  \\\n",
       "0  /mnt/c/Users/alexi/Documents/data/images/cellp...   \n",
       "0  /mnt/c/Users/alexi/Documents/data/images/cellp...   \n",
       "0  /mnt/c/Users/alexi/Documents/data/images/cellp...   \n",
       "0  /mnt/c/Users/alexi/Documents/data/images/cellp...   \n",
       "1  /mnt/c/Users/alexi/Documents/data/images/cellp...   \n",
       "\n",
       "                      Image_FileName_actin_golgi_wga  \\\n",
       "0  /mnt/c/Users/alexi/Documents/data/images/cellp...   \n",
       "0  /mnt/c/Users/alexi/Documents/data/images/cellp...   \n",
       "0  /mnt/c/Users/alexi/Documents/data/images/cellp...   \n",
       "0  /mnt/c/Users/alexi/Documents/data/images/cellp...   \n",
       "1  /mnt/c/Users/alexi/Documents/data/images/cellp...   \n",
       "\n",
       "                                 Image_FileName_mito Metadata_Window  \\\n",
       "0  /mnt/c/Users/alexi/Documents/data/images/cellp...             f01   \n",
       "0  /mnt/c/Users/alexi/Documents/data/images/cellp...             f02   \n",
       "0  /mnt/c/Users/alexi/Documents/data/images/cellp...             f03   \n",
       "0  /mnt/c/Users/alexi/Documents/data/images/cellp...             f04   \n",
       "1  /mnt/c/Users/alexi/Documents/data/images/cellp...             f01   \n",
       "\n",
       "  Metadata_WellPlateFrame  Metadata_ProcessingBatch  \n",
       "0      GR00003340_A01_f01                         1  \n",
       "0      GR00003340_A01_f02                         1  \n",
       "0      GR00003340_A01_f03                         1  \n",
       "0      GR00003340_A01_f04                         1  \n",
       "1      GR00003340_A02_f01                         1  "
      ]
     },
     "execution_count": 345,
     "metadata": {},
     "output_type": "execute_result"
    }
   ],
   "source": [
    "f_selected_meta_full_wsl.iloc[:5]"
   ]
  },
  {
   "cell_type": "code",
   "execution_count": 309,
   "metadata": {},
   "outputs": [
    {
     "data": {
      "text/plain": [
       "((19810, 16), (24576, 13))"
      ]
     },
     "execution_count": 309,
     "metadata": {},
     "output_type": "execute_result"
    }
   ],
   "source": [
    "f_selected_meta_full.shape,selected_meta_full.shape"
   ]
  },
  {
   "cell_type": "code",
   "execution_count": 310,
   "metadata": {},
   "outputs": [],
   "source": [
    "PATH_META_COMP_FULL_FILTERED = \"/mnt/c/Users/alexi/Documents/data/images/cellpainting/cpg0016-jump/data/metadata_targets_wide_filtered.csv\"\n",
    "f_selected_meta_full.to_csv(PATH_META_COMP_FULL_FILTERED,index=False)"
   ]
  },
  {
   "cell_type": "code",
   "execution_count": null,
   "metadata": {},
   "outputs": [],
   "source": [
    "PATH_META_COMP_FULL_FILTERED_WSL = \"/mnt/c/Users/alexi/Documents/data/images/cellpainting/cpg0016-jump/data/metadata_targets_wide_filtered_wsl.csv\"\n",
    "f_selected_meta_full.to_csv(PATH_META_COMP_FULL_FILTERED,index=False)"
   ]
  },
  {
   "cell_type": "code",
   "execution_count": 354,
   "metadata": {},
   "outputs": [],
   "source": [
    "PATH_META_COMP_FILTERED_DOCKER = \"/mnt/c/Users/alexi/Documents/data/images/cellpainting/cpg0016-jump/data/metadata_targets_docker.csv\"\n",
    "f_selected_meta_docker.to_csv(PATH_META_COMP_FILTERED_DOCKER,index=False)"
   ]
  },
  {
   "cell_type": "markdown",
   "metadata": {},
   "source": [
    "Adding frame"
   ]
  },
  {
   "cell_type": "code",
   "execution_count": 297,
   "metadata": {},
   "outputs": [
    {
     "data": {
      "text/plain": [
       "Index(['Metadata_Source', 'Metadata_Batch', 'Metadata_Plate',\n",
       "       'Metadata_PlateType', 'Metadata_Well', 'Metadata_JCP2022',\n",
       "       'Metadata_InChIKey', 'Metadata_SMILES', 'Image_FileName_DNA',\n",
       "       'Image_FileName_ER', 'Image_FileName_nucl_cytoRNA',\n",
       "       'Image_FileName_actin_golgi_wga', 'Image_FileName_mito',\n",
       "       'Metadata_Window', 'Metadata_WellPlateFrame'],\n",
       "      dtype='object')"
      ]
     },
     "execution_count": 297,
     "metadata": {},
     "output_type": "execute_result"
    }
   ],
   "source": [
    "f_selected_meta_full.columns"
   ]
  },
  {
   "cell_type": "markdown",
   "metadata": {},
   "source": [
    "### Splitting by batches"
   ]
  },
  {
   "cell_type": "code",
   "execution_count": 298,
   "metadata": {},
   "outputs": [],
   "source": []
  },
  {
   "cell_type": "code",
   "execution_count": 355,
   "metadata": {},
   "outputs": [],
   "source": [
    "PATH_RESULTS = \"/mnt/c/Users/alexi/Documents/data/images/cellpainting/cpg0016-jump/data/results_target\"\n",
    "PATH_CLI = \"/mnt/c/Users/alexi/Documents/data/images/cellpainting/cpg0016-jump/data/results_target/run_docker.sh\"\n",
    "if not os.path.exists(PATH_RESULTS):\n",
    "    os.makedirs(PATH_RESULTS)"
   ]
  },
  {
   "cell_type": "code",
   "execution_count": 356,
   "metadata": {},
   "outputs": [],
   "source": [
    "import numpy as np"
   ]
  },
  {
   "cell_type": "code",
   "execution_count": 369,
   "metadata": {},
   "outputs": [],
   "source": [
    "def meta_path(batch):\n",
    "    return \"/mnt/c/Users/alexi/Documents/data/images/cellpainting/cpg0016-jump/data/results_target/batch\"+str(batch)+\"/metadata_batch_\"+str(batch)+\".csv\"\n",
    "\n",
    "def meta_path_docker(batch):\n",
    "    return \"/mnt/c/Users/alexi/Documents/data/images/cellpainting/cpg0016-jump/data/results_target_docker/batch\"+str(batch)+\"/metadata_batch_\"+str(batch)+\".csv\"\n",
    "    \n",
    "def result_path(batch):\n",
    "    return \"/mnt/c/Users/alexi/Documents/data/images/cellpainting/cpg0016-jump/data/results_target/batch\"+str(batch)+\"/results\"\n",
    "\n",
    "def result_path_docker(batch):\n",
    "    return \"/mnt/c/Users/alexi/Documents/data/images/cellpainting/cpg0016-jump/data/results_target_docker/batch\"+str(batch)+\"/results\"\n",
    "\n",
    "def build_cli_batch(batch,psep=\"\\\\\",start=\"C:\"):\n",
    "    cli_tab = [\"cellprofiler.exe -c -r -p \\\"\"+start+\"\\\\Users\\\\alexi\\\\Documents\\\\dev\\\\portfolio\\\\imaging\\\\segmentation\\\\cellprofiler\\\\segmentation_pipeline_v2.cppipe\\\" \",\n",
    "               \"--data-file \\\"C:\\\\Users\\\\alexi\\\\Documents\\\\data\\\\images\\\\cellpainting\\\\cpg0016-jump\\\\data\\\\\",\n",
    "               \"results_target\\\\batch\"+str(batch)+\"\\\\metadata_batch_\"+str(batch),\".csv\\\" -o  \\\"C:\\\\Users\\\\alexi\\\\Documents\\\\data\\\\\",\n",
    "               \"images\\\\cellpainting\\\\cpg0016-jump\\\\data\\\\results_target\\\\batch\"+str(batch)+\"\\\\results\\\"\"]\n",
    "    return \"\".join(cli_tab)\n",
    "\n",
    "def build_cli_batch2(batch,idx1,idx2):\n",
    "    cli_tab = [\"cellprofiler.exe -c -r -p \\\"C:\\\\Users\\\\alexi\\\\Documents\\\\dev\\\\portfolio\\\\imaging\\\\segmentation\\\\cellprofiler\\\\segmentation_pipeline_v2.cppipe\\\" \",\n",
    "               \"--data-file \\\"C:\\\\Users\\\\alexi\\\\Documents\\\\data\\\\images\\\\cellpainting\\\\cpg0016-jump\\\\data\\\\metadata_targets_wide_filtered.csv\\\" \"\n",
    "               \"-f \"+str(idx1)+\" -l \"+str(idx2)+\" -o  \\\"C:\\\\Users\\\\alexi\\\\Documents\\\\data\\\\\",\n",
    "               \"images\\\\cellpainting\\\\cpg0016-jump\\\\data\\\\results_target\\\\batch\"+str(batch)+\"\\\\results\\\"\"]\n",
    "    return \"\".join(cli_tab)\n",
    "\n",
    "DOCKERNAME = \"cellpro\"\n",
    "def build_cli_docker(batch,idx1,idx2):\n",
    "    cli_tab = [\"docker run --rm -v /mnt/c/Users/alexi/Documents/data/images/cellpainting/cpg0016-jump/data:/mnt/input \",DOCKERNAME,\" cellprofiler -c -r -p \\\"/mnt/input/segmentation_pipeline_v2.cppipe\\\" \",\n",
    "              \"--data-file \\\"/mnt/input/metadata_targets_docker.csv\\\" \",\n",
    "                  \"-f \"+str(idx1)+\" -l \"+str(idx2)+\" -o \\\"\",\n",
    "              \"/mnt/input/results_target_docker/batch\"+str(batch)+\"\\\"\"]\n",
    "    return \"\".join(cli_tab)"
   ]
  },
  {
   "cell_type": "code",
   "execution_count": 364,
   "metadata": {},
   "outputs": [
    {
     "data": {
      "text/plain": [
       "'docker run -it --rm -v /mnt/c/Users/alexi/Documents/data/images/cellpainting/cpg0016-jump/data:/mnt/input cellpro cellprofiler -c -r -p \"/mnt/input/segmentation_pipeline_v2.cppipe\" --data-file \"/mnt/input/metadata_targets_docker.csv\" -f 1 -l 100 -o \"/mnt/input/results_target_docker/batch5\"'"
      ]
     },
     "execution_count": 364,
     "metadata": {},
     "output_type": "execute_result"
    }
   ],
   "source": [
    "build_cli_docker(5,idx1=1,idx2=100)"
   ]
  },
  {
   "cell_type": "code",
   "execution_count": 373,
   "metadata": {},
   "outputs": [],
   "source": [
    "PATH_CLI = \"/mnt/c/Users/alexi/Documents/data/images/cellpainting/cpg0016-jump/data/run_docker.sh\"\n",
    "BATCH_SIZE=100\n",
    "if os.path.exists(PATH_CLI):\n",
    "    os.remove(PATH_CLI)\n",
    "nsample = f_selected_meta_full.shape[0]\n",
    "total_batch = nsample//BATCH_SIZE+1\n",
    "for ibatch in range(1,(total_batch+1)):\n",
    "    min_idx = (ibatch-1)*BATCH_SIZE+1\n",
    "    max_idx = (ibatch)*BATCH_SIZE\n",
    "    if max_idx>nsample:\n",
    "        max_idx = nsample\n",
    "    batch_tab = f_selected_meta_full.iloc[min_idx:max_idx]\n",
    "    if min_idx<1:\n",
    "        min_idx=1\n",
    "    pmeta = meta_path_docker(ibatch)\n",
    "    presult = result_path_docker(ibatch)\n",
    "    if not os.path.exists(presult):\n",
    "        os.makedirs(presult)\n",
    "    batch_tab.to_csv(pmeta,index=False)\n",
    "    vcli = build_cli_docker(ibatch,idx1=min_idx,idx2=max_idx)\n",
    "    with open(PATH_CLI,\"a\") as f:\n",
    "        f.write(vcli+\" &\\n\")\n",
    "        if ibatch%5==0:\n",
    "            f.write(\"wait\\n\")\n",
    "        \n"
   ]
  },
  {
   "cell_type": "code",
   "execution_count": 330,
   "metadata": {},
   "outputs": [
    {
     "data": {
      "text/plain": [
       "(19810, 16)"
      ]
     },
     "execution_count": 330,
     "metadata": {},
     "output_type": "execute_result"
    }
   ],
   "source": [
    "f_selected_meta_full.shape"
   ]
  },
  {
   "cell_type": "code",
   "execution_count": null,
   "metadata": {},
   "outputs": [],
   "source": [
    "f_selected_meta_full.Image_FileName_DNA"
   ]
  }
 ],
 "metadata": {
  "kernelspec": {
   "display_name": "Python 3 (ipykernel)",
   "language": "python",
   "name": "python3"
  },
  "language_info": {
   "codemirror_mode": {
    "name": "ipython",
    "version": 3
   },
   "file_extension": ".py",
   "mimetype": "text/x-python",
   "name": "python",
   "nbconvert_exporter": "python",
   "pygments_lexer": "ipython3",
   "version": "3.12.9"
  }
 },
 "nbformat": 4,
 "nbformat_minor": 4
}
