{
 "cells": [
  {
   "cell_type": "markdown",
   "id": "eabe2de2",
   "metadata": {},
   "source": [
    "# Parameters optimization"
   ]
  },
  {
   "cell_type": "code",
   "execution_count": 13,
   "id": "f1e7ed00",
   "metadata": {},
   "outputs": [],
   "source": [
    "import torchvision\n",
    "from torchvision.transforms import v2\n",
    "import torch\n",
    "import os\n",
    "import sys\n",
    "import numpy as np \n",
    "import lightning as L\n",
    "import importlib\n",
    "import shutil\n",
    "import tempfile\n",
    "from lightning.pytorch.utilities.model_summary import ModelSummary\n",
    "\n",
    "\n",
    "# We add the correct path to the system\n",
    "PATH_SCRIPTS = [\"../\"]\n",
    "sys.path.extend(PATH_SCRIPTS)\n",
    "\n",
    "import gencellpainting as gc\n",
    "\n",
    "from gencellpainting.utils.datautils import create_dataloaders"
   ]
  },
  {
   "cell_type": "markdown",
   "id": "3eb10c85",
   "metadata": {},
   "source": [
    "We define a temporary folder for optimization and a folder to provide the results"
   ]
  },
  {
   "cell_type": "code",
   "execution_count": 14,
   "id": "c794f75a",
   "metadata": {},
   "outputs": [],
   "source": [
    "NAME_MODEL = \"VAE_hpar_optim\"\n",
    "# Define the data apth into a folder\n",
    "PATH_DATA = os.path.abspath(os.path.join(os.getcwd(),\"..\",\"..\",\"data\"))\n",
    "PATH_OPTIM = os.path.join(PATH_DATA,\"optim\",NAME_MODEL)\n",
    "if not os.path.isdir(PATH_OPTIM):\n",
    "    os.makedirs(PATH_OPTIM)"
   ]
  },
  {
   "cell_type": "markdown",
   "id": "51bae0c6",
   "metadata": {},
   "source": [
    "We first define the transfroms that the images will be subjected to"
   ]
  },
  {
   "cell_type": "code",
   "execution_count": 31,
   "id": "11571de3",
   "metadata": {},
   "outputs": [],
   "source": [
    "transforms = v2.Compose([\n",
    "    v2.RandomHorizontalFlip(p=0.5),\n",
    "    v2.RandomHorizontalFlip(p=0.5),\n",
    "    v2.ToDtype(torch.float32, scale=True) # This also set the values of the tensor between 0 and 1\n",
    "])"
   ]
  },
  {
   "cell_type": "code",
   "execution_count": 32,
   "id": "a2b8d249",
   "metadata": {},
   "outputs": [
    {
     "name": "stderr",
     "output_type": "stream",
     "text": [
      "100%|██████████| 2400/2400 [00:15<00:00, 159.43it/s]\n",
      "100%|██████████| 600/600 [00:03<00:00, 195.51it/s]\n"
     ]
    }
   ],
   "source": [
    "PATH_IMAGES = \"/mnt/c/Users/alexi/Documents/data/images/cellpainting/cpg0016-jump/data/resized_tensor_128_uint8\"\n",
    "\n",
    "dl_train, dl_val, ds_train, ds_val = create_dataloaders(PATH_IMAGES,transforms,0.8,nmax=3000)"
   ]
  },
  {
   "cell_type": "code",
   "execution_count": 58,
   "id": "e0d4596a",
   "metadata": {},
   "outputs": [
    {
     "data": {
      "image/jpeg": "[encoded data removed]",
      "image/png": "[encoded data removed]",
      "text/plain": [
       "<PIL.Image.Image image mode=L size=128x128>"
      ]
     },
     "execution_count": 58,
     "metadata": {},
     "output_type": "execute_result"
    }
   ],
   "source": [
    "v2.ToPILImage()(ds_train[10][1:2,:,:])"
   ]
  },
  {
   "cell_type": "markdown",
   "id": "5e129bf1",
   "metadata": {},
   "source": [
    "To test the parameters optimization, we simply optimize the parameters of a simple Variaitonal Auto-Encoder"
   ]
  },
  {
   "cell_type": "code",
   "execution_count": 17,
   "id": "cb66dc5f",
   "metadata": {},
   "outputs": [],
   "source": [
    "from gencellpainting.model.VAE import VAE"
   ]
  },
  {
   "cell_type": "code",
   "execution_count": 18,
   "id": "e3f33f28",
   "metadata": {},
   "outputs": [],
   "source": [
    "args_to_test = {\n",
    "    \"latent_dim\": [256, 512, 1024],\n",
    "    \"network_capacity\": [16, 32, 64]\n",
    "}\n",
    "\n",
    "args_fixed = {\n",
    "    \"in_channels\":5,\n",
    "    \"out_channels\":5,\n",
    "    \"epoch_monitoring_interval\":-1, # Ensure that no images are saved\n",
    "    \"image_size\":128\n",
    "}\n",
    "\n",
    "args_trainer = {\n",
    "    \"accelerator\":\"gpu\", \"max_epochs\":50\n",
    "}"
   ]
  },
  {
   "cell_type": "markdown",
   "id": "271b6685",
   "metadata": {},
   "source": [
    "We can now load the parameters optimizer"
   ]
  },
  {
   "cell_type": "code",
   "execution_count": 22,
   "id": "40512390",
   "metadata": {},
   "outputs": [
    {
     "data": {
      "text/plain": [
       "<module 'gencellpainting.evaluation.hparams_optimization' from '/mnt/c/Users/alexi/Documents/dev/portfolio/imaging/segmentation/src/notebooks/../gencellpainting/evaluation/hparams_optimization.py'>"
      ]
     },
     "execution_count": 22,
     "metadata": {},
     "output_type": "execute_result"
    }
   ],
   "source": [
    "import gencellpainting.evaluation.hparams_optimization as hopt\n",
    "importlib.reload(hopt)"
   ]
  },
  {
   "cell_type": "code",
   "execution_count": 23,
   "id": "5861e495",
   "metadata": {},
   "outputs": [],
   "source": [
    "grid_search = hopt.HyperParametersOptimizer(model=VAE, dl=dl_train, dl_val=dl_val, hparams=args_to_test,\n",
    "                                            fixed_args=args_fixed,metric=\"total_loss_val\", early_stopping_metric=\"total_loss_val\",\n",
    "                                              trainer_args=args_trainer, name_model=NAME_MODEL, folder=PATH_OPTIM)"
   ]
  },
  {
   "cell_type": "markdown",
   "id": "af5a9758",
   "metadata": {},
   "source": [
    "We optimize"
   ]
  },
  {
   "cell_type": "code",
   "execution_count": 24,
   "id": "2c70c0a2",
   "metadata": {},
   "outputs": [
    {
     "name": "stderr",
     "output_type": "stream",
     "text": [
      "GPU available: True (cuda), used: True\n",
      "TPU available: False, using: 0 TPU cores\n",
      "HPU available: False, using: 0 HPUs\n",
      "LOCAL_RANK: 0 - CUDA_VISIBLE_DEVICES: [0]\n",
      "\n",
      "  | Name    | Type               | Params | Mode \n",
      "-------------------------------------------------------\n",
      "0 | encoder | EncoderWithPooling | 4.3 M  | train\n",
      "1 | decoder | Decoder            | 4.9 M  | train\n",
      "-------------------------------------------------------\n",
      "9.2 M     Trainable params\n",
      "0         Non-trainable params\n",
      "9.2 M     Total params\n",
      "36.741    Total estimated model params size (MB)\n",
      "50        Modules in train mode\n",
      "0         Modules in eval mode\n",
      "GPU available: True (cuda), used: True\n",
      "TPU available: False, using: 0 TPU cores\n",
      "HPU available: False, using: 0 HPUs\n",
      "LOCAL_RANK: 0 - CUDA_VISIBLE_DEVICES: [0]\n",
      "\n",
      "  | Name    | Type               | Params | Mode \n",
      "-------------------------------------------------------\n",
      "0 | encoder | EncoderWithPooling | 8.8 M  | train\n",
      "1 | decoder | Decoder            | 15.3 M | train\n",
      "-------------------------------------------------------\n",
      "24.1 M    Trainable params\n",
      "0         Non-trainable params\n",
      "24.1 M    Total params\n",
      "96.564    Total estimated model params size (MB)\n",
      "50        Modules in train mode\n",
      "0         Modules in eval mode\n",
      "GPU available: True (cuda), used: True\n",
      "TPU available: False, using: 0 TPU cores\n",
      "HPU available: False, using: 0 HPUs\n",
      "LOCAL_RANK: 0 - CUDA_VISIBLE_DEVICES: [0]\n",
      "\n",
      "  | Name    | Type               | Params | Mode \n",
      "-------------------------------------------------------\n",
      "0 | encoder | EncoderWithPooling | 18.4 M | train\n",
      "1 | decoder | Decoder            | 53.0 M | train\n",
      "-------------------------------------------------------\n",
      "71.4 M    Trainable params\n",
      "0         Non-trainable params\n",
      "71.4 M    Total params\n",
      "285.466   Total estimated model params size (MB)\n",
      "50        Modules in train mode\n",
      "0         Modules in eval mode\n",
      "GPU available: True (cuda), used: True\n",
      "TPU available: False, using: 0 TPU cores\n",
      "HPU available: False, using: 0 HPUs\n",
      "LOCAL_RANK: 0 - CUDA_VISIBLE_DEVICES: [0]\n",
      "\n",
      "  | Name    | Type               | Params | Mode \n",
      "-------------------------------------------------------\n",
      "0 | encoder | EncoderWithPooling | 8.5 M  | train\n",
      "1 | decoder | Decoder            | 7.0 M  | train\n",
      "-------------------------------------------------------\n",
      "15.5 M    Trainable params\n",
      "0         Non-trainable params\n",
      "15.5 M    Total params\n",
      "61.908    Total estimated model params size (MB)\n",
      "50        Modules in train mode\n",
      "0         Modules in eval mode\n",
      "GPU available: True (cuda), used: True\n",
      "TPU available: False, using: 0 TPU cores\n",
      "HPU available: False, using: 0 HPUs\n",
      "LOCAL_RANK: 0 - CUDA_VISIBLE_DEVICES: [0]\n",
      "\n",
      "  | Name    | Type               | Params | Mode \n",
      "-------------------------------------------------------\n",
      "0 | encoder | EncoderWithPooling | 17.2 M | train\n",
      "1 | decoder | Decoder            | 19.5 M | train\n",
      "-------------------------------------------------------\n",
      "36.7 M    Trainable params\n",
      "0         Non-trainable params\n",
      "36.7 M    Total params\n",
      "146.898   Total estimated model params size (MB)\n",
      "50        Modules in train mode\n",
      "0         Modules in eval mode\n",
      "GPU available: True (cuda), used: True\n",
      "TPU available: False, using: 0 TPU cores\n",
      "HPU available: False, using: 0 HPUs\n",
      "LOCAL_RANK: 0 - CUDA_VISIBLE_DEVICES: [0]\n",
      "\n",
      "  | Name    | Type               | Params | Mode \n",
      "-------------------------------------------------------\n",
      "0 | encoder | EncoderWithPooling | 35.2 M | train\n",
      "1 | decoder | Decoder            | 61.4 M | train\n",
      "-------------------------------------------------------\n",
      "96.5 M    Trainable params\n",
      "0         Non-trainable params\n",
      "96.5 M    Total params\n",
      "386.132   Total estimated model params size (MB)\n",
      "50        Modules in train mode\n",
      "0         Modules in eval mode\n",
      "GPU available: True (cuda), used: True\n",
      "TPU available: False, using: 0 TPU cores\n",
      "HPU available: False, using: 0 HPUs\n",
      "LOCAL_RANK: 0 - CUDA_VISIBLE_DEVICES: [0]\n",
      "\n",
      "  | Name    | Type               | Params | Mode \n",
      "-------------------------------------------------------\n",
      "0 | encoder | EncoderWithPooling | 16.9 M | train\n",
      "1 | decoder | Decoder            | 11.2 M | train\n",
      "-------------------------------------------------------\n",
      "28.1 M    Trainable params\n",
      "0         Non-trainable params\n",
      "28.1 M    Total params\n",
      "112.244   Total estimated model params size (MB)\n",
      "50        Modules in train mode\n",
      "0         Modules in eval mode\n",
      "GPU available: True (cuda), used: True\n",
      "TPU available: False, using: 0 TPU cores\n",
      "HPU available: False, using: 0 HPUs\n",
      "LOCAL_RANK: 0 - CUDA_VISIBLE_DEVICES: [0]\n",
      "\n",
      "  | Name    | Type               | Params | Mode \n",
      "-------------------------------------------------------\n",
      "0 | encoder | EncoderWithPooling | 34.0 M | train\n",
      "1 | decoder | Decoder            | 27.9 M | train\n",
      "-------------------------------------------------------\n",
      "61.9 M    Trainable params\n",
      "0         Non-trainable params\n",
      "61.9 M    Total params\n",
      "247.565   Total estimated model params size (MB)\n",
      "50        Modules in train mode\n",
      "0         Modules in eval mode\n",
      "GPU available: True (cuda), used: True\n",
      "TPU available: False, using: 0 TPU cores\n",
      "HPU available: False, using: 0 HPUs\n",
      "LOCAL_RANK: 0 - CUDA_VISIBLE_DEVICES: [0]\n",
      "\n",
      "  | Name    | Type               | Params | Mode \n",
      "-------------------------------------------------------\n",
      "0 | encoder | EncoderWithPooling | 68.7 M | train\n",
      "1 | decoder | Decoder            | 78.1 M | train\n",
      "-------------------------------------------------------\n",
      "146 M     Trainable params\n",
      "0         Non-trainable params\n",
      "146 M     Total params\n",
      "587.462   Total estimated model params size (MB)\n",
      "50        Modules in train mode\n",
      "0         Modules in eval mode\n"
     ]
    }
   ],
   "source": [
    "res = grid_search.optimize_hyperparameters()"
   ]
  },
  {
   "cell_type": "markdown",
   "id": "a0e5d70e",
   "metadata": {},
   "source": [
    "## Optimizing the WGAN parameters"
   ]
  },
  {
   "cell_type": "code",
   "execution_count": 59,
   "id": "2f01e267",
   "metadata": {},
   "outputs": [],
   "source": [
    "from gencellpainting.model.WGAN import WGAN_GP"
   ]
  },
  {
   "cell_type": "code",
   "execution_count": 60,
   "id": "159fbe79",
   "metadata": {},
   "outputs": [],
   "source": [
    "\n",
    "# class WGAN_GP(AbstractGAN):\n",
    "#     \"\"\"Own implemntation of https://arxiv.org/pdf/1701.07875 the parameters are taken from the paper\"\"\"\n",
    "#     def __init__(self, in_channels, out_channels, noise_dim, n_critic = 5, vlambda=10,\\\n",
    "#                  network_capacity=16,image_size=128,\\\n",
    "#                  learning_rate = 1e-5,epoch_monitoring_interval=1, n_images_monitoring=6):"
   ]
  },
  {
   "cell_type": "markdown",
   "id": "bcd93c0e",
   "metadata": {},
   "source": [
    "We create the parameters"
   ]
  },
  {
   "cell_type": "code",
   "execution_count": 70,
   "id": "9ee9d0fd",
   "metadata": {},
   "outputs": [],
   "source": [
    "import torchvision\n",
    "from gencellpainting.utils.mdataset import WGANCriticDataset\n",
    "class WGANCriticMNIST(torchvision.datasets.VisionDataset):\n",
    "    def __init__(self, dataset, ncritic):\n",
    "        self.root = \"root\"\n",
    "        self.dataset = dataset\n",
    "        self.ncritic = ncritic\n",
    "        self.n_samples = min(6000,len(dataset))\n",
    "\n",
    "    def process_image(self, x):\n",
    "        return x[0]\n",
    "\n",
    "    def __getitem__(self, index):\n",
    "        # Random samping of ncritic intex\n",
    "        random_idx = torch.randint(0, self.n_samples, (self.ncritic,))\n",
    "        items = [self.process_image(self.dataset[i]) for i in random_idx]\n",
    "        return self.process_image(self.dataset[index]),items\n",
    "    \n",
    "    def __len__(self):\n",
    "        return self.n_samples\n",
    "    \n",
    "def collate_wgan_batch(batch):\n",
    "    gen_imgs,disc_imgs = zip(*batch)\n",
    "    gen_imgs = torch.stack(gen_imgs)\n",
    "    disc_imgs = torch.stack([y for subbatch in disc_imgs for y in subbatch ])\n",
    "    return gen_imgs, disc_imgs\n",
    "    \n",
    "ds_train_W = WGANCriticDataset(ds_train,ncritic=5)\n",
    "dl_train_W = torch.utils.data.DataLoader(ds_train_W,batch_size=32,shuffle=True, collate_fn=collate_wgan_batch, num_workers=4)"
   ]
  },
  {
   "cell_type": "code",
   "execution_count": 71,
   "id": "ced7cb26",
   "metadata": {},
   "outputs": [],
   "source": [
    "args_to_test = {\n",
    "    \"noise_dim\": [64, 128, 256],\n",
    "    \"network_capacity\": [16, 32, 64]\n",
    "}\n",
    "\n",
    "args_fixed = {\n",
    "    \"in_channels\":5,\n",
    "    \"out_channels\":5,\n",
    "    \"vlambda\":10,\n",
    "    \"n_critic\":5,\n",
    "    \"epoch_monitoring_interval\":-1, # Ensure that no images are saved\n",
    "    \"image_size\":128\n",
    "}\n",
    "\n",
    "args_trainer = {\n",
    "    \"accelerator\":\"gpu\", \"max_epochs\":50\n",
    "}"
   ]
  },
  {
   "cell_type": "code",
   "execution_count": 72,
   "id": "52d66385",
   "metadata": {},
   "outputs": [],
   "source": [
    "NAME_MODEL = \"WGANGP_hpar_optim\"\n",
    "PATH_OPTIM = os.path.join(PATH_DATA,\"optim\",NAME_MODEL)"
   ]
  },
  {
   "cell_type": "code",
   "execution_count": 75,
   "id": "621ab7f3",
   "metadata": {},
   "outputs": [],
   "source": [
    "grid_search_wg = hopt.HyperParametersOptimizer(model=WGAN_GP, dl=dl_train_W, hparams=args_to_test,\n",
    "                                            fixed_args=args_fixed,metric=\"total_loss_val\", early_stopping_metric=\"total_loss_val\",\n",
    "                                              trainer_args=args_trainer, name_model=NAME_MODEL, folder=PATH_OPTIM)"
   ]
  },
  {
   "cell_type": "code",
   "execution_count": null,
   "id": "5469d960",
   "metadata": {},
   "outputs": [
    {
     "name": "stderr",
     "output_type": "stream",
     "text": [
      "GPU available: True (cuda), used: True\n",
      "TPU available: False, using: 0 TPU cores\n",
      "HPU available: False, using: 0 HPUs\n",
      "LOCAL_RANK: 0 - CUDA_VISIBLE_DEVICES: [0]\n",
      "\n",
      "  | Name          | Type            | Params | Mode \n",
      "----------------------------------------------------------\n",
      "0 | precision     | BinaryPrecision | 0      | train\n",
      "1 | recall        | BinaryRecall    | 0      | train\n",
      "2 | generator     | Decoder         | 3.3 M  | train\n",
      "3 | discriminator | WGANCritic      | 2.8 M  | train\n",
      "----------------------------------------------------------\n",
      "6.1 M     Trainable params\n",
      "0         Non-trainable params\n",
      "6.1 M     Total params\n",
      "24.456    Total estimated model params size (MB)\n",
      "45        Modules in train mode\n",
      "0         Modules in eval mode\n"
     ]
    }
   ],
   "source": [
    "res_wg = grid_search_wg.optimize_hyperparameters()"
   ]
  },
  {
   "cell_type": "code",
   "execution_count": null,
   "id": "6c0b911d",
   "metadata": {},
   "outputs": [],
   "source": []
  }
 ],
 "metadata": {
  "kernelspec": {
   "display_name": "imaging",
   "language": "python",
   "name": "python3"
  },
  "language_info": {
   "codemirror_mode": {
    "name": "ipython",
    "version": 3
   },
   "file_extension": ".py",
   "mimetype": "text/x-python",
   "name": "python",
   "nbconvert_exporter": "python",
   "pygments_lexer": "ipython3",
   "version": "3.12.9"
  }
 },
 "nbformat": 4,
 "nbformat_minor": 5
}
