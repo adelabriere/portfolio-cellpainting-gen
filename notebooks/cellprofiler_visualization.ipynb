{
 "cells": [
  {
   "cell_type": "markdown",
   "id": "8a925cc2",
   "metadata": {},
   "source": [
    "# Exploration of well based metrics\n",
    "\n",
    "We first load some packages"
   ]
  },
  {
   "cell_type": "code",
   "execution_count": 98,
   "id": "0d7ef0bc",
   "metadata": {},
   "outputs": [
    {
     "name": "stderr",
     "output_type": "stream",
     "text": [
      "/home/adelabriere/miniconda3/envs/imaging/lib/python3.12/site-packages/tqdm/auto.py:21: TqdmWarning:\n",
      "\n",
      "IProgress not found. Please update jupyter and ipywidgets. See https://ipywidgets.readthedocs.io/en/stable/user_install.html\n",
      "\n"
     ]
    }
   ],
   "source": [
    "import polars as pl\n",
    "import plotly.express as px\n",
    "import sklearn\n",
    "import umap"
   ]
  },
  {
   "cell_type": "markdown",
   "id": "f2a37e3f",
   "metadata": {},
   "source": [
    "\n",
    "We first specify the aggregated path by well"
   ]
  },
  {
   "cell_type": "code",
   "execution_count": 1,
   "id": "145d7723",
   "metadata": {},
   "outputs": [],
   "source": [
    "PATH_FILE = \"/mnt/c/Users/alexi/Documents/data/images/cellpainting/cpg0016-jump/data/results_target/well_descriptors.csv\""
   ]
  },
  {
   "cell_type": "markdown",
   "id": "d814f31f",
   "metadata": {},
   "source": [
    "We load the datasets"
   ]
  },
  {
   "cell_type": "code",
   "execution_count": null,
   "id": "b6ff3bbc",
   "metadata": {},
   "outputs": [
    {
     "name": "stderr",
     "output_type": "stream",
     "text": [
      "/tmp/ipykernel_30340/4067332876.py:6: DeprecationWarning: `NUMERIC_DTYPES` was deprecated in version 1.0.0. Define your own data type groups or use the `polars.selectors` module for selecting columns of a certain data type.\n",
      "  pl.select(pl.col(pl.NUMERIC_DTYPES))\n"
     ]
    }
   ],
   "source": [
    "df = pl.read_csv(PATH_FILE)"
   ]
  },
  {
   "cell_type": "code",
   "execution_count": 35,
   "id": "0f7de773",
   "metadata": {},
   "outputs": [
    {
     "name": "stderr",
     "output_type": "stream",
     "text": [
      "/tmp/ipykernel_30340/45389431.py:2: DeprecationWarning: `NUMERIC_DTYPES` was deprecated in version 1.0.0. Define your own data type groups or use the `polars.selectors` module for selecting columns of a certain data type.\n",
      "  dfr = df.select(pl.col(pl.NUMERIC_DTYPES))\n"
     ]
    }
   ],
   "source": [
    "\n",
    "# Drop all string columns\n",
    "dfr = df.select(pl.col(pl.NUMERIC_DTYPES))"
   ]
  },
  {
   "cell_type": "markdown",
   "id": "d74b9c63",
   "metadata": {},
   "source": [
    "We first check the coefficient of cariation of the different values"
   ]
  },
  {
   "cell_type": "code",
   "execution_count": 38,
   "id": "d1f403b1",
   "metadata": {},
   "outputs": [],
   "source": [
    "df_stats = dfr.describe()"
   ]
  },
  {
   "cell_type": "code",
   "execution_count": 64,
   "id": "294ec228",
   "metadata": {},
   "outputs": [],
   "source": [
    "dmean = df_stats.filter(df_stats[\"statistic\"]==\"mean\").drop(pl.col(\"statistic\"))\n",
    "dstd = df_stats.filter(df_stats[\"statistic\"]==\"std\").drop(pl.col(\"statistic\"))\n",
    "dcv = dstd/dmean\n"
   ]
  },
  {
   "cell_type": "code",
   "execution_count": 67,
   "id": "881a40d1",
   "metadata": {},
   "outputs": [],
   "source": [
    "dcv = dcv.transpose(include_header=True).rename({\"column\": \"variable\", \"column_0\": \"cv\"})"
   ]
  },
  {
   "cell_type": "code",
   "execution_count": 77,
   "id": "e581bc72",
   "metadata": {},
   "outputs": [
    {
     "data": {
      "application/vnd.plotly.v1+json": {
       "config": {
        "plotlyServerURL": "https://plot.ly"
       },
       "data": [
        {
         "bingroup": "x",
         "hovertemplate": "cv=%{x}<br>count=%{y}<extra></extra>",
         "legendgroup": "",
         "marker": {
          "color": "#636efa",
          "pattern": {
           "shape": ""
          }
         },
         "name": "",
         "orientation": "v",
         "showlegend": false,
         "type": "histogram",
         "x": {
          "bdata": "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",
          "dtype": "f8"
         },
         "xaxis": "x",
         "yaxis": "y"
        }
       ],
       "layout": {
        "barmode": "relative",
        "legend": {
         "tracegroupgap": 0
        },
        "margin": {
         "t": 60
        },
        "template": {
         "data": {
          "bar": [
           {
            "error_x": {
             "color": "#2a3f5f"
            },
            "error_y": {
             "color": "#2a3f5f"
            },
            "marker": {
             "line": {
              "color": "#E5ECF6",
              "width": 0.5
             },
             "pattern": {
              "fillmode": "overlay",
              "size": 10,
              "solidity": 0.2
             }
            },
            "type": "bar"
           }
          ],
          "barpolar": [
           {
            "marker": {
             "line": {
              "color": "#E5ECF6",
              "width": 0.5
             },
             "pattern": {
              "fillmode": "overlay",
              "size": 10,
              "solidity": 0.2
             }
            },
            "type": "barpolar"
           }
          ],
          "carpet": [
           {
            "aaxis": {
             "endlinecolor": "#2a3f5f",
             "gridcolor": "white",
             "linecolor": "white",
             "minorgridcolor": "white",
             "startlinecolor": "#2a3f5f"
            },
            "baxis": {
             "endlinecolor": "#2a3f5f",
             "gridcolor": "white",
             "linecolor": "white",
             "minorgridcolor": "white",
             "startlinecolor": "#2a3f5f"
            },
            "type": "carpet"
           }
          ],
          "choropleth": [
           {
            "colorbar": {
             "outlinewidth": 0,
             "ticks": ""
            },
            "type": "choropleth"
           }
          ],
          "contour": [
           {
            "colorbar": {
             "outlinewidth": 0,
             "ticks": ""
            },
            "colorscale": [
             [
              0,
              "#0d0887"
             ],
             [
              0.1111111111111111,
              "#46039f"
             ],
             [
              0.2222222222222222,
              "#7201a8"
             ],
             [
              0.3333333333333333,
              "#9c179e"
             ],
             [
              0.4444444444444444,
              "#bd3786"
             ],
             [
              0.5555555555555556,
              "#d8576b"
             ],
             [
              0.6666666666666666,
              "#ed7953"
             ],
             [
              0.7777777777777778,
              "#fb9f3a"
             ],
             [
              0.8888888888888888,
              "#fdca26"
             ],
             [
              1,
              "#f0f921"
             ]
            ],
            "type": "contour"
           }
          ],
          "contourcarpet": [
           {
            "colorbar": {
             "outlinewidth": 0,
             "ticks": ""
            },
            "type": "contourcarpet"
           }
          ],
          "heatmap": [
           {
            "colorbar": {
             "outlinewidth": 0,
             "ticks": ""
            },
            "colorscale": [
             [
              0,
              "#0d0887"
             ],
             [
              0.1111111111111111,
              "#46039f"
             ],
             [
              0.2222222222222222,
              "#7201a8"
             ],
             [
              0.3333333333333333,
              "#9c179e"
             ],
             [
              0.4444444444444444,
              "#bd3786"
             ],
             [
              0.5555555555555556,
              "#d8576b"
             ],
             [
              0.6666666666666666,
              "#ed7953"
             ],
             [
              0.7777777777777778,
              "#fb9f3a"
             ],
             [
              0.8888888888888888,
              "#fdca26"
             ],
             [
              1,
              "#f0f921"
             ]
            ],
            "type": "heatmap"
           }
          ],
          "histogram": [
           {
            "marker": {
             "pattern": {
              "fillmode": "overlay",
              "size": 10,
              "solidity": 0.2
             }
            },
            "type": "histogram"
           }
          ],
          "histogram2d": [
           {
            "colorbar": {
             "outlinewidth": 0,
             "ticks": ""
            },
            "colorscale": [
             [
              0,
              "#0d0887"
             ],
             [
              0.1111111111111111,
              "#46039f"
             ],
             [
              0.2222222222222222,
              "#7201a8"
             ],
             [
              0.3333333333333333,
              "#9c179e"
             ],
             [
              0.4444444444444444,
              "#bd3786"
             ],
             [
              0.5555555555555556,
              "#d8576b"
             ],
             [
              0.6666666666666666,
              "#ed7953"
             ],
             [
              0.7777777777777778,
              "#fb9f3a"
             ],
             [
              0.8888888888888888,
              "#fdca26"
             ],
             [
              1,
              "#f0f921"
             ]
            ],
            "type": "histogram2d"
           }
          ],
          "histogram2dcontour": [
           {
            "colorbar": {
             "outlinewidth": 0,
             "ticks": ""
            },
            "colorscale": [
             [
              0,
              "#0d0887"
             ],
             [
              0.1111111111111111,
              "#46039f"
             ],
             [
              0.2222222222222222,
              "#7201a8"
             ],
             [
              0.3333333333333333,
              "#9c179e"
             ],
             [
              0.4444444444444444,
              "#bd3786"
             ],
             [
              0.5555555555555556,
              "#d8576b"
             ],
             [
              0.6666666666666666,
              "#ed7953"
             ],
             [
              0.7777777777777778,
              "#fb9f3a"
             ],
             [
              0.8888888888888888,
              "#fdca26"
             ],
             [
              1,
              "#f0f921"
             ]
            ],
            "type": "histogram2dcontour"
           }
          ],
          "mesh3d": [
           {
            "colorbar": {
             "outlinewidth": 0,
             "ticks": ""
            },
            "type": "mesh3d"
           }
          ],
          "parcoords": [
           {
            "line": {
             "colorbar": {
              "outlinewidth": 0,
              "ticks": ""
             }
            },
            "type": "parcoords"
           }
          ],
          "pie": [
           {
            "automargin": true,
            "type": "pie"
           }
          ],
          "scatter": [
           {
            "fillpattern": {
             "fillmode": "overlay",
             "size": 10,
             "solidity": 0.2
            },
            "type": "scatter"
           }
          ],
          "scatter3d": [
           {
            "line": {
             "colorbar": {
              "outlinewidth": 0,
              "ticks": ""
             }
            },
            "marker": {
             "colorbar": {
              "outlinewidth": 0,
              "ticks": ""
             }
            },
            "type": "scatter3d"
           }
          ],
          "scattercarpet": [
           {
            "marker": {
             "colorbar": {
              "outlinewidth": 0,
              "ticks": ""
             }
            },
            "type": "scattercarpet"
           }
          ],
          "scattergeo": [
           {
            "marker": {
             "colorbar": {
              "outlinewidth": 0,
              "ticks": ""
             }
            },
            "type": "scattergeo"
           }
          ],
          "scattergl": [
           {
            "marker": {
             "colorbar": {
              "outlinewidth": 0,
              "ticks": ""
             }
            },
            "type": "scattergl"
           }
          ],
          "scattermap": [
           {
            "marker": {
             "colorbar": {
              "outlinewidth": 0,
              "ticks": ""
             }
            },
            "type": "scattermap"
           }
          ],
          "scattermapbox": [
           {
            "marker": {
             "colorbar": {
              "outlinewidth": 0,
              "ticks": ""
             }
            },
            "type": "scattermapbox"
           }
          ],
          "scatterpolar": [
           {
            "marker": {
             "colorbar": {
              "outlinewidth": 0,
              "ticks": ""
             }
            },
            "type": "scatterpolar"
           }
          ],
          "scatterpolargl": [
           {
            "marker": {
             "colorbar": {
              "outlinewidth": 0,
              "ticks": ""
             }
            },
            "type": "scatterpolargl"
           }
          ],
          "scatterternary": [
           {
            "marker": {
             "colorbar": {
              "outlinewidth": 0,
              "ticks": ""
             }
            },
            "type": "scatterternary"
           }
          ],
          "surface": [
           {
            "colorbar": {
             "outlinewidth": 0,
             "ticks": ""
            },
            "colorscale": [
             [
              0,
              "#0d0887"
             ],
             [
              0.1111111111111111,
              "#46039f"
             ],
             [
              0.2222222222222222,
              "#7201a8"
             ],
             [
              0.3333333333333333,
              "#9c179e"
             ],
             [
              0.4444444444444444,
              "#bd3786"
             ],
             [
              0.5555555555555556,
              "#d8576b"
             ],
             [
              0.6666666666666666,
              "#ed7953"
             ],
             [
              0.7777777777777778,
              "#fb9f3a"
             ],
             [
              0.8888888888888888,
              "#fdca26"
             ],
             [
              1,
              "#f0f921"
             ]
            ],
            "type": "surface"
           }
          ],
          "table": [
           {
            "cells": {
             "fill": {
              "color": "#EBF0F8"
             },
             "line": {
              "color": "white"
             }
            },
            "header": {
             "fill": {
              "color": "#C8D4E3"
             },
             "line": {
              "color": "white"
             }
            },
            "type": "table"
           }
          ]
         },
         "layout": {
          "annotationdefaults": {
           "arrowcolor": "#2a3f5f",
           "arrowhead": 0,
           "arrowwidth": 1
          },
          "autotypenumbers": "strict",
          "coloraxis": {
           "colorbar": {
            "outlinewidth": 0,
            "ticks": ""
           }
          },
          "colorscale": {
           "diverging": [
            [
             0,
             "#8e0152"
            ],
            [
             0.1,
             "#c51b7d"
            ],
            [
             0.2,
             "#de77ae"
            ],
            [
             0.3,
             "#f1b6da"
            ],
            [
             0.4,
             "#fde0ef"
            ],
            [
             0.5,
             "#f7f7f7"
            ],
            [
             0.6,
             "#e6f5d0"
            ],
            [
             0.7,
             "#b8e186"
            ],
            [
             0.8,
             "#7fbc41"
            ],
            [
             0.9,
             "#4d9221"
            ],
            [
             1,
             "#276419"
            ]
           ],
           "sequential": [
            [
             0,
             "#0d0887"
            ],
            [
             0.1111111111111111,
             "#46039f"
            ],
            [
             0.2222222222222222,
             "#7201a8"
            ],
            [
             0.3333333333333333,
             "#9c179e"
            ],
            [
             0.4444444444444444,
             "#bd3786"
            ],
            [
             0.5555555555555556,
             "#d8576b"
            ],
            [
             0.6666666666666666,
             "#ed7953"
            ],
            [
             0.7777777777777778,
             "#fb9f3a"
            ],
            [
             0.8888888888888888,
             "#fdca26"
            ],
            [
             1,
             "#f0f921"
            ]
           ],
           "sequentialminus": [
            [
             0,
             "#0d0887"
            ],
            [
             0.1111111111111111,
             "#46039f"
            ],
            [
             0.2222222222222222,
             "#7201a8"
            ],
            [
             0.3333333333333333,
             "#9c179e"
            ],
            [
             0.4444444444444444,
             "#bd3786"
            ],
            [
             0.5555555555555556,
             "#d8576b"
            ],
            [
             0.6666666666666666,
             "#ed7953"
            ],
            [
             0.7777777777777778,
             "#fb9f3a"
            ],
            [
             0.8888888888888888,
             "#fdca26"
            ],
            [
             1,
             "#f0f921"
            ]
           ]
          },
          "colorway": [
           "#636efa",
           "#EF553B",
           "#00cc96",
           "#ab63fa",
           "#FFA15A",
           "#19d3f3",
           "#FF6692",
           "#B6E880",
           "#FF97FF",
           "#FECB52"
          ],
          "font": {
           "color": "#2a3f5f"
          },
          "geo": {
           "bgcolor": "white",
           "lakecolor": "white",
           "landcolor": "#E5ECF6",
           "showlakes": true,
           "showland": true,
           "subunitcolor": "white"
          },
          "hoverlabel": {
           "align": "left"
          },
          "hovermode": "closest",
          "mapbox": {
           "style": "light"
          },
          "paper_bgcolor": "white",
          "plot_bgcolor": "#E5ECF6",
          "polar": {
           "angularaxis": {
            "gridcolor": "white",
            "linecolor": "white",
            "ticks": ""
           },
           "bgcolor": "#E5ECF6",
           "radialaxis": {
            "gridcolor": "white",
            "linecolor": "white",
            "ticks": ""
           }
          },
          "scene": {
           "xaxis": {
            "backgroundcolor": "#E5ECF6",
            "gridcolor": "white",
            "gridwidth": 2,
            "linecolor": "white",
            "showbackground": true,
            "ticks": "",
            "zerolinecolor": "white"
           },
           "yaxis": {
            "backgroundcolor": "#E5ECF6",
            "gridcolor": "white",
            "gridwidth": 2,
            "linecolor": "white",
            "showbackground": true,
            "ticks": "",
            "zerolinecolor": "white"
           },
           "zaxis": {
            "backgroundcolor": "#E5ECF6",
            "gridcolor": "white",
            "gridwidth": 2,
            "linecolor": "white",
            "showbackground": true,
            "ticks": "",
            "zerolinecolor": "white"
           }
          },
          "shapedefaults": {
           "line": {
            "color": "#2a3f5f"
           }
          },
          "ternary": {
           "aaxis": {
            "gridcolor": "white",
            "linecolor": "white",
            "ticks": ""
           },
           "baxis": {
            "gridcolor": "white",
            "linecolor": "white",
            "ticks": ""
           },
           "bgcolor": "#E5ECF6",
           "caxis": {
            "gridcolor": "white",
            "linecolor": "white",
            "ticks": ""
           }
          },
          "title": {
           "x": 0.05
          },
          "xaxis": {
           "automargin": true,
           "gridcolor": "white",
           "linecolor": "white",
           "ticks": "",
           "title": {
            "standoff": 15
           },
           "zerolinecolor": "white",
           "zerolinewidth": 2
          },
          "yaxis": {
           "automargin": true,
           "gridcolor": "white",
           "linecolor": "white",
           "ticks": "",
           "title": {
            "standoff": 15
           },
           "zerolinecolor": "white",
           "zerolinewidth": 2
          }
         }
        },
        "xaxis": {
         "anchor": "y",
         "domain": [
          0,
          1
         ],
         "title": {
          "text": "cv"
         }
        },
        "yaxis": {
         "anchor": "x",
         "domain": [
          0,
          1
         ],
         "title": {
          "text": "count"
         }
        }
       }
      }
     },
     "metadata": {},
     "output_type": "display_data"
    }
   ],
   "source": [
    "px.histogram(dcv,x=\"cv\")"
   ]
  },
  {
   "cell_type": "markdown",
   "id": "5ca6a622",
   "metadata": {},
   "source": [
    "We opnly keep the the top 1000 variables for visualization purpose"
   ]
  },
  {
   "cell_type": "code",
   "execution_count": 79,
   "id": "4f01e3b4",
   "metadata": {},
   "outputs": [
    {
     "name": "stderr",
     "output_type": "stream",
     "text": [
      "/tmp/ipykernel_30340/2242901189.py:1: DeprecationWarning:\n",
      "\n",
      "`is_in` with a collection of the same datatype is ambiguous and deprecated.\n",
      "Please use `implode` to return to previous behavior.\n",
      "\n",
      "See https://github.com/pola-rs/polars/issues/22149 for more information.\n",
      "\n"
     ]
    }
   ],
   "source": [
    "sel_dcv = dcv.filter(pl.col(\"cv\").is_in(pl.col(\"cv\").top_k(1000)))\n",
    "sel_vars = sel_dcv[\"variable\"].to_list()"
   ]
  },
  {
   "cell_type": "markdown",
   "id": "a67eb507",
   "metadata": {},
   "source": [
    "We subset the data"
   ]
  },
  {
   "cell_type": "code",
   "execution_count": 96,
   "id": "60f75550",
   "metadata": {},
   "outputs": [],
   "source": [
    "sdf = df[sel_vars]\n",
    "sdf_metas = df[[\"WellPlate\"]]"
   ]
  },
  {
   "cell_type": "markdown",
   "id": "34bfe6a2",
   "metadata": {},
   "source": [
    "We can now check the variable using a PCA"
   ]
  },
  {
   "cell_type": "code",
   "execution_count": null,
   "id": "781c77a4",
   "metadata": {},
   "outputs": [],
   "source": [
    "# We compute the PCA of the variables with 50 components\n",
    "N_COMPONENTS = 50\n",
    "pca = sklearn.decomposition.PCA(n_components=N_COMPONENTS)\n",
    "sdf_pca = pca.fit_transform(sdf)"
   ]
  },
  {
   "cell_type": "markdown",
   "id": "a3103b9f",
   "metadata": {},
   "source": [
    "We cna compute the umap representation"
   ]
  },
  {
   "cell_type": "code",
   "execution_count": 100,
   "id": "b920ffce",
   "metadata": {},
   "outputs": [
    {
     "name": "stderr",
     "output_type": "stream",
     "text": [
      "/home/adelabriere/miniconda3/envs/imaging/lib/python3.12/site-packages/sklearn/utils/deprecation.py:151: FutureWarning:\n",
      "\n",
      "'force_all_finite' was renamed to 'ensure_all_finite' in 1.6 and will be removed in 1.8.\n",
      "\n"
     ]
    }
   ],
   "source": [
    "um = umap.UMAP(n_components=2,n_neighbors=30)\n",
    "sdf_umap = um.fit_transform(sdf_pca)"
   ]
  },
  {
   "cell_type": "markdown",
   "id": "b96fd742",
   "metadata": {},
   "source": [
    "We add the representations of the metadata table"
   ]
  },
  {
   "cell_type": "code",
   "execution_count": 103,
   "id": "ec13c06e",
   "metadata": {},
   "outputs": [],
   "source": [
    "for ipc in range(N_COMPONENTS):\n",
    "    sdf_metas = sdf_metas.with_columns(\n",
    "        pl.lit(sdf_pca[:,ipc]).alias(\"PC\"+str(ipc+1))\n",
    "    )\n",
    "\n",
    "for ium in range(2):\n",
    "    sdf_metas =  sdf_metas.with_columns(\n",
    "        pl.lit(sdf_umap[:,ium]).alias(\"UMAP\"+str(ium+1))\n",
    "    )"
   ]
  },
  {
   "cell_type": "markdown",
   "id": "0d5dbd3e",
   "metadata": {},
   "source": [
    "Reconstructing the well and plate information"
   ]
  },
  {
   "cell_type": "code",
   "execution_count": 113,
   "id": "9fe28180",
   "metadata": {},
   "outputs": [],
   "source": [
    "sdf_metas = sdf_metas.with_columns(\n",
    "    pl.col(\"WellPlate\").str.split(\"_\").list.get(-1).alias(\"Well\"),\n",
    "    pl.col(\"WellPlate\").str.split(\"_\").list.get(0).alias(\"Plate\"),\n",
    "    pl.col(\"Well\").str.extract(r\"([A-Z]+)([0-9]+)\",group_index=1).alias(\"WellRow\"),\n",
    "    pl.col(\"Well\").str.extract(r\"([A-Z]+)([0-9]+)\",group_index=2).alias(\"WellCol\")\n",
    ")"
   ]
  },
  {
   "cell_type": "markdown",
   "id": "35fc70b7",
   "metadata": {},
   "source": [
    "Plotting representation"
   ]
  },
  {
   "cell_type": "code",
   "execution_count": 120,
   "id": "cf880ce4",
   "metadata": {},
   "outputs": [
    {
     "data": {
      "application/vnd.plotly.v1+json": {
       "config": {
        "plotlyServerURL": "https://plot.ly"
       },
       "data": [
        {
         "hovertemplate": "Plate=GR00003340<br>UMAP1=%{x}<br>UMAP2=%{y}<extra></extra>",
         "legendgroup": "GR00003340",
         "marker": {
          "color": "#636efa",
          "symbol": "circle"
         },
         "mode": "markers",
         "name": "GR00003340",
         "showlegend": true,
         "type": "scattergl",
         "x": {
          "bdata": "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",
          "dtype": "f4"
         },
         "xaxis": "x",
         "y": {
          "bdata": "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",
          "dtype": "f4"
         },
         "yaxis": "y"
        },
        {
         "hovertemplate": "Plate=GR00003300<br>UMAP1=%{x}<br>UMAP2=%{y}<extra></extra>",
         "legendgroup": "GR00003300",
         "marker": {
          "color": "#EF553B",
          "symbol": "circle"
         },
         "mode": "markers",
         "name": "GR00003300",
         "showlegend": true,
         "type": "scattergl",
         "x": {
          "bdata": "F65xv20pbcC/wDBBPQTXv1Qj9r9gqB9BQcuyv3P6ZcA4QBLAPq/Tv8nMO8AG0SHAxN9rwK1WQsDg1VPA0K9vwOmgM8BmE5C/qHf0v5dsPsDqFFrAOpUYwKCtO0E+g6G/zk7qv7JNLr/QhDrAOvkkwKDprL+6rjzA6JpewKbBasD/umPA7aCDwCtHhcA0BlfArBtHwPEHgMAlGinAwZY5wIyiZ8CeMTbA6ckowIx06L/Vtg3A+pVgwPCrZMDRShPAVA2ovyKJZMDjwjO/R0Stv3koL8BGCSG/nclHwFUOQ8AXB1O/KQ0HwFKcL7/d7zLAeWJLvxWFN7+zNwbAD38ewD8Fj7/HI9+/ASYiwL4Knr9o4DvAo4E6wFKcdMCQ5nrAn9wgwGUxo79iPS6/pLc0v8LxRr9jVJe/YPNQwC/6VMDJejzAQCaUvwfhT7/vqSO/weNswAjVh8BvqoPA4MSAwDUjgMDn2WTAD2YYwIX1gsCgHnPA15MHwH7Dgb/kYyXAZNxBwACUwr8Iqm3ALL3+v1L9hsC8LW7Az0dMwEbcYcA6FBHAZ6UEwC5x779OZELA6GwrwFf18b8YqwHAvxVowGUo3L889cK/ozUCwOXMIMBzToXACIs3wM9fUcDDS2nAD6JIwPgGn79G3B3APDnrv/qbVcD6L6O/TDV7wF2PccAhh6e/gwA5wO9Web+t2nO/22tlwGDThsAR4HLA0TmEwM/mh8DQdWLAzpqCwN8xQcA4yNy/8duTvzZIVcBHVYjAeRQkwKblPcDCJ4XAaoIowPhtV8BpX9+/WY37v9XaesCi1Pu/ry0/wI0XT8Cr9te/OOycv82riL+EkaK/0Ns2wMlR9r8pJW/AF7swwIaobcCDkDPAiWl9v1qWHMCI55S/3TYBwHcWMcBvSjzA8t+9v3sWzb8BDEvA6jFCv0V3JEGKFwHAj2B9wKr7gcAZdA/AxStVwPibRsA7SBnAJQlBwEhdBsBxFiXAXBNRv+1+QcDj6u2/pEkvwGVCir8Tf4+/ERECwIVNesD57yPA7d97wFIUdsDZOoXAhrdqwLkbw78r1kfAivLmv6Wgtr9Rq6i/0Z1ewI5WhsB08mbAIXLJv9c3GMBR6kC/VKfovxiLS8C9SLi/Q/+yvw==",
          "dtype": "f4"
         },
         "xaxis": "x",
         "y": {
          "bdata": "93MZQUzuG0HgqyFB4CYXQVQ3FUEBMh5BbrwZQVB/HEHwshdBeecWQbV9HkGKASJBvUobQSdmHEEPWRpB7dEZQbhHGkFAaRlBhIkaQXwjGkG0FRZBeWQWQac4xEDB1BpBU38bQa9fFkFXoB5BxGoZQZcUGkHvlR5BB6wTQVaCFEH9XRpBacMXQZzHFkHkgxZBGkEdQY4RGUFfVxtBpsEdQTT8FkEiBRdBxOIXQZU/F0ExuhpB/OAcQS2RFUHLiBtBXd4bQYzVFUGGrxZBuD4dQX+JH0G6NRZBWkweQQlVHkFuJRhBpT0bQe6nFkHa/iBBY40XQZsYF0Hc/R5BvUEhQQYaGUERuxpBhgsgQd2LG0FZJB9BkRweQcONG0HVaBlBPDwcQV5sGEG/ZRZBkI4WQV4sF0FuOxlBd6kXQaB+GUEQ3BxBHzkaQbuSF0EfAxZB1icVQXjGFkH3khhB0lUaQb8sF0FWehZB03wgQbmnGUGKTxtBnoUfQbfNGkHUhCFBMToeQcRBHEFJuhtBPiYeQYUxF0EYNRtBnKgeQX9aHUHQFxtB0GQbQQ7tFUGQHRhBYTobQU4pHkE7ahxBqFwUQU7zHEF46R1BEN0dQVx1GkGWaBdBUsEVQdv+GEHIBRtBVq4XQaVpGUHZyBZBjBoYQf5VGUF1JR1B8RMXQSItFkEMAhxBkuseQQiyGEHHcxhBtaQTQTrfFkGJBxhB6XwYQRiKFkGAHxZBfwoXQSIfH0Fn/hpBI9caQZ7+F0Gq6hZBylwXQb2SF0FlEBdBixkcQcfZGkHJJRxBdo8eQdYUG0EuTR1BKgUfQcnJHkFW/x1BaakcQdyWG0FFbRxBP/0fQW/YHUGtlBxBFTgfQfdQGEGIaiBBUUkZQVoWIUHNZBxBUfIeQXA9HkE1EhhBQNkXQd1IGUGlkRlB110XQRZ860Aj0BVBJL8WQSN7GUHJfh1BL9oWQUcCHkHu8CBB/DUgQZQJH0FpciFBtesXQRIeH0Euph1BXTMXQQsjGUGeTRhBPPgcQZUOGEELyiFB5UcaQexsGEFugRdBc0MWQUbzGEGonhtBQXYdQW6pG0GLSBpBNBkWQUL5FkGN8RtB8kIdQQN2H0FvvRhBWz8dQS63FkGPUxlBDOcZQQ==",
          "dtype": "f4"
         },
         "yaxis": "y"
        }
       ],
       "layout": {
        "legend": {
         "title": {
          "text": "Plate"
         },
         "tracegroupgap": 0
        },
        "margin": {
         "t": 60
        },
        "template": {
         "data": {
          "bar": [
           {
            "error_x": {
             "color": "#2a3f5f"
            },
            "error_y": {
             "color": "#2a3f5f"
            },
            "marker": {
             "line": {
              "color": "#E5ECF6",
              "width": 0.5
             },
             "pattern": {
              "fillmode": "overlay",
              "size": 10,
              "solidity": 0.2
             }
            },
            "type": "bar"
           }
          ],
          "barpolar": [
           {
            "marker": {
             "line": {
              "color": "#E5ECF6",
              "width": 0.5
             },
             "pattern": {
              "fillmode": "overlay",
              "size": 10,
              "solidity": 0.2
             }
            },
            "type": "barpolar"
           }
          ],
          "carpet": [
           {
            "aaxis": {
             "endlinecolor": "#2a3f5f",
             "gridcolor": "white",
             "linecolor": "white",
             "minorgridcolor": "white",
             "startlinecolor": "#2a3f5f"
            },
            "baxis": {
             "endlinecolor": "#2a3f5f",
             "gridcolor": "white",
             "linecolor": "white",
             "minorgridcolor": "white",
             "startlinecolor": "#2a3f5f"
            },
            "type": "carpet"
           }
          ],
          "choropleth": [
           {
            "colorbar": {
             "outlinewidth": 0,
             "ticks": ""
            },
            "type": "choropleth"
           }
          ],
          "contour": [
           {
            "colorbar": {
             "outlinewidth": 0,
             "ticks": ""
            },
            "colorscale": [
             [
              0,
              "#0d0887"
             ],
             [
              0.1111111111111111,
              "#46039f"
             ],
             [
              0.2222222222222222,
              "#7201a8"
             ],
             [
              0.3333333333333333,
              "#9c179e"
             ],
             [
              0.4444444444444444,
              "#bd3786"
             ],
             [
              0.5555555555555556,
              "#d8576b"
             ],
             [
              0.6666666666666666,
              "#ed7953"
             ],
             [
              0.7777777777777778,
              "#fb9f3a"
             ],
             [
              0.8888888888888888,
              "#fdca26"
             ],
             [
              1,
              "#f0f921"
             ]
            ],
            "type": "contour"
           }
          ],
          "contourcarpet": [
           {
            "colorbar": {
             "outlinewidth": 0,
             "ticks": ""
            },
            "type": "contourcarpet"
           }
          ],
          "heatmap": [
           {
            "colorbar": {
             "outlinewidth": 0,
             "ticks": ""
            },
            "colorscale": [
             [
              0,
              "#0d0887"
             ],
             [
              0.1111111111111111,
              "#46039f"
             ],
             [
              0.2222222222222222,
              "#7201a8"
             ],
             [
              0.3333333333333333,
              "#9c179e"
             ],
             [
              0.4444444444444444,
              "#bd3786"
             ],
             [
              0.5555555555555556,
              "#d8576b"
             ],
             [
              0.6666666666666666,
              "#ed7953"
             ],
             [
              0.7777777777777778,
              "#fb9f3a"
             ],
             [
              0.8888888888888888,
              "#fdca26"
             ],
             [
              1,
              "#f0f921"
             ]
            ],
            "type": "heatmap"
           }
          ],
          "histogram": [
           {
            "marker": {
             "pattern": {
              "fillmode": "overlay",
              "size": 10,
              "solidity": 0.2
             }
            },
            "type": "histogram"
           }
          ],
          "histogram2d": [
           {
            "colorbar": {
             "outlinewidth": 0,
             "ticks": ""
            },
            "colorscale": [
             [
              0,
              "#0d0887"
             ],
             [
              0.1111111111111111,
              "#46039f"
             ],
             [
              0.2222222222222222,
              "#7201a8"
             ],
             [
              0.3333333333333333,
              "#9c179e"
             ],
             [
              0.4444444444444444,
              "#bd3786"
             ],
             [
              0.5555555555555556,
              "#d8576b"
             ],
             [
              0.6666666666666666,
              "#ed7953"
             ],
             [
              0.7777777777777778,
              "#fb9f3a"
             ],
             [
              0.8888888888888888,
              "#fdca26"
             ],
             [
              1,
              "#f0f921"
             ]
            ],
            "type": "histogram2d"
           }
          ],
          "histogram2dcontour": [
           {
            "colorbar": {
             "outlinewidth": 0,
             "ticks": ""
            },
            "colorscale": [
             [
              0,
              "#0d0887"
             ],
             [
              0.1111111111111111,
              "#46039f"
             ],
             [
              0.2222222222222222,
              "#7201a8"
             ],
             [
              0.3333333333333333,
              "#9c179e"
             ],
             [
              0.4444444444444444,
              "#bd3786"
             ],
             [
              0.5555555555555556,
              "#d8576b"
             ],
             [
              0.6666666666666666,
              "#ed7953"
             ],
             [
              0.7777777777777778,
              "#fb9f3a"
             ],
             [
              0.8888888888888888,
              "#fdca26"
             ],
             [
              1,
              "#f0f921"
             ]
            ],
            "type": "histogram2dcontour"
           }
          ],
          "mesh3d": [
           {
            "colorbar": {
             "outlinewidth": 0,
             "ticks": ""
            },
            "type": "mesh3d"
           }
          ],
          "parcoords": [
           {
            "line": {
             "colorbar": {
              "outlinewidth": 0,
              "ticks": ""
             }
            },
            "type": "parcoords"
           }
          ],
          "pie": [
           {
            "automargin": true,
            "type": "pie"
           }
          ],
          "scatter": [
           {
            "fillpattern": {
             "fillmode": "overlay",
             "size": 10,
             "solidity": 0.2
            },
            "type": "scatter"
           }
          ],
          "scatter3d": [
           {
            "line": {
             "colorbar": {
              "outlinewidth": 0,
              "ticks": ""
             }
            },
            "marker": {
             "colorbar": {
              "outlinewidth": 0,
              "ticks": ""
             }
            },
            "type": "scatter3d"
           }
          ],
          "scattercarpet": [
           {
            "marker": {
             "colorbar": {
              "outlinewidth": 0,
              "ticks": ""
             }
            },
            "type": "scattercarpet"
           }
          ],
          "scattergeo": [
           {
            "marker": {
             "colorbar": {
              "outlinewidth": 0,
              "ticks": ""
             }
            },
            "type": "scattergeo"
           }
          ],
          "scattergl": [
           {
            "marker": {
             "colorbar": {
              "outlinewidth": 0,
              "ticks": ""
             }
            },
            "type": "scattergl"
           }
          ],
          "scattermap": [
           {
            "marker": {
             "colorbar": {
              "outlinewidth": 0,
              "ticks": ""
             }
            },
            "type": "scattermap"
           }
          ],
          "scattermapbox": [
           {
            "marker": {
             "colorbar": {
              "outlinewidth": 0,
              "ticks": ""
             }
            },
            "type": "scattermapbox"
           }
          ],
          "scatterpolar": [
           {
            "marker": {
             "colorbar": {
              "outlinewidth": 0,
              "ticks": ""
             }
            },
            "type": "scatterpolar"
           }
          ],
          "scatterpolargl": [
           {
            "marker": {
             "colorbar": {
              "outlinewidth": 0,
              "ticks": ""
             }
            },
            "type": "scatterpolargl"
           }
          ],
          "scatterternary": [
           {
            "marker": {
             "colorbar": {
              "outlinewidth": 0,
              "ticks": ""
             }
            },
            "type": "scatterternary"
           }
          ],
          "surface": [
           {
            "colorbar": {
             "outlinewidth": 0,
             "ticks": ""
            },
            "colorscale": [
             [
              0,
              "#0d0887"
             ],
             [
              0.1111111111111111,
              "#46039f"
             ],
             [
              0.2222222222222222,
              "#7201a8"
             ],
             [
              0.3333333333333333,
              "#9c179e"
             ],
             [
              0.4444444444444444,
              "#bd3786"
             ],
             [
              0.5555555555555556,
              "#d8576b"
             ],
             [
              0.6666666666666666,
              "#ed7953"
             ],
             [
              0.7777777777777778,
              "#fb9f3a"
             ],
             [
              0.8888888888888888,
              "#fdca26"
             ],
             [
              1,
              "#f0f921"
             ]
            ],
            "type": "surface"
           }
          ],
          "table": [
           {
            "cells": {
             "fill": {
              "color": "#EBF0F8"
             },
             "line": {
              "color": "white"
             }
            },
            "header": {
             "fill": {
              "color": "#C8D4E3"
             },
             "line": {
              "color": "white"
             }
            },
            "type": "table"
           }
          ]
         },
         "layout": {
          "annotationdefaults": {
           "arrowcolor": "#2a3f5f",
           "arrowhead": 0,
           "arrowwidth": 1
          },
          "autotypenumbers": "strict",
          "coloraxis": {
           "colorbar": {
            "outlinewidth": 0,
            "ticks": ""
           }
          },
          "colorscale": {
           "diverging": [
            [
             0,
             "#8e0152"
            ],
            [
             0.1,
             "#c51b7d"
            ],
            [
             0.2,
             "#de77ae"
            ],
            [
             0.3,
             "#f1b6da"
            ],
            [
             0.4,
             "#fde0ef"
            ],
            [
             0.5,
             "#f7f7f7"
            ],
            [
             0.6,
             "#e6f5d0"
            ],
            [
             0.7,
             "#b8e186"
            ],
            [
             0.8,
             "#7fbc41"
            ],
            [
             0.9,
             "#4d9221"
            ],
            [
             1,
             "#276419"
            ]
           ],
           "sequential": [
            [
             0,
             "#0d0887"
            ],
            [
             0.1111111111111111,
             "#46039f"
            ],
            [
             0.2222222222222222,
             "#7201a8"
            ],
            [
             0.3333333333333333,
             "#9c179e"
            ],
            [
             0.4444444444444444,
             "#bd3786"
            ],
            [
             0.5555555555555556,
             "#d8576b"
            ],
            [
             0.6666666666666666,
             "#ed7953"
            ],
            [
             0.7777777777777778,
             "#fb9f3a"
            ],
            [
             0.8888888888888888,
             "#fdca26"
            ],
            [
             1,
             "#f0f921"
            ]
           ],
           "sequentialminus": [
            [
             0,
             "#0d0887"
            ],
            [
             0.1111111111111111,
             "#46039f"
            ],
            [
             0.2222222222222222,
             "#7201a8"
            ],
            [
             0.3333333333333333,
             "#9c179e"
            ],
            [
             0.4444444444444444,
             "#bd3786"
            ],
            [
             0.5555555555555556,
             "#d8576b"
            ],
            [
             0.6666666666666666,
             "#ed7953"
            ],
            [
             0.7777777777777778,
             "#fb9f3a"
            ],
            [
             0.8888888888888888,
             "#fdca26"
            ],
            [
             1,
             "#f0f921"
            ]
           ]
          },
          "colorway": [
           "#636efa",
           "#EF553B",
           "#00cc96",
           "#ab63fa",
           "#FFA15A",
           "#19d3f3",
           "#FF6692",
           "#B6E880",
           "#FF97FF",
           "#FECB52"
          ],
          "font": {
           "color": "#2a3f5f"
          },
          "geo": {
           "bgcolor": "white",
           "lakecolor": "white",
           "landcolor": "#E5ECF6",
           "showlakes": true,
           "showland": true,
           "subunitcolor": "white"
          },
          "hoverlabel": {
           "align": "left"
          },
          "hovermode": "closest",
          "mapbox": {
           "style": "light"
          },
          "paper_bgcolor": "white",
          "plot_bgcolor": "#E5ECF6",
          "polar": {
           "angularaxis": {
            "gridcolor": "white",
            "linecolor": "white",
            "ticks": ""
           },
           "bgcolor": "#E5ECF6",
           "radialaxis": {
            "gridcolor": "white",
            "linecolor": "white",
            "ticks": ""
           }
          },
          "scene": {
           "xaxis": {
            "backgroundcolor": "#E5ECF6",
            "gridcolor": "white",
            "gridwidth": 2,
            "linecolor": "white",
            "showbackground": true,
            "ticks": "",
            "zerolinecolor": "white"
           },
           "yaxis": {
            "backgroundcolor": "#E5ECF6",
            "gridcolor": "white",
            "gridwidth": 2,
            "linecolor": "white",
            "showbackground": true,
            "ticks": "",
            "zerolinecolor": "white"
           },
           "zaxis": {
            "backgroundcolor": "#E5ECF6",
            "gridcolor": "white",
            "gridwidth": 2,
            "linecolor": "white",
            "showbackground": true,
            "ticks": "",
            "zerolinecolor": "white"
           }
          },
          "shapedefaults": {
           "line": {
            "color": "#2a3f5f"
           }
          },
          "ternary": {
           "aaxis": {
            "gridcolor": "white",
            "linecolor": "white",
            "ticks": ""
           },
           "baxis": {
            "gridcolor": "white",
            "linecolor": "white",
            "ticks": ""
           },
           "bgcolor": "#E5ECF6",
           "caxis": {
            "gridcolor": "white",
            "linecolor": "white",
            "ticks": ""
           }
          },
          "title": {
           "x": 0.05
          },
          "xaxis": {
           "automargin": true,
           "gridcolor": "white",
           "linecolor": "white",
           "ticks": "",
           "title": {
            "standoff": 15
           },
           "zerolinecolor": "white",
           "zerolinewidth": 2
          },
          "yaxis": {
           "automargin": true,
           "gridcolor": "white",
           "linecolor": "white",
           "ticks": "",
           "title": {
            "standoff": 15
           },
           "zerolinecolor": "white",
           "zerolinewidth": 2
          }
         }
        },
        "xaxis": {
         "anchor": "y",
         "domain": [
          0,
          1
         ],
         "title": {
          "text": "UMAP1"
         }
        },
        "yaxis": {
         "anchor": "x",
         "domain": [
          0,
          1
         ],
         "title": {
          "text": "UMAP2"
         }
        }
       }
      }
     },
     "metadata": {},
     "output_type": "display_data"
    }
   ],
   "source": [
    "px.scatter(sdf_metas,x=\"UMAP1\",y=\"UMAP2\",color=\"Plate\")"
   ]
  },
  {
   "cell_type": "code",
   "execution_count": null,
   "id": "29fa6306",
   "metadata": {},
   "outputs": [],
   "source": []
  }
 ],
 "metadata": {
  "kernelspec": {
   "display_name": "imaging",
   "language": "python",
   "name": "python3"
  },
  "language_info": {
   "codemirror_mode": {
    "name": "ipython",
    "version": 3
   },
   "file_extension": ".py",
   "mimetype": "text/x-python",
   "name": "python",
   "nbconvert_exporter": "python",
   "pygments_lexer": "ipython3",
   "version": "3.12.9"
  }
 },
 "nbformat": 4,
 "nbformat_minor": 5
}
